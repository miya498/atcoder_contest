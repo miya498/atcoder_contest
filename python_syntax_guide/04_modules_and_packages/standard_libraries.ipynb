{
 "cells": [
  {
   "cell_type": "markdown",
   "metadata": {},
   "source": [
    "# 標準ライブラリ\n",
    "\n",
    "Pythonの標準ライブラリには、さまざまな便利なモジュールが含まれています。ここでは、いくつかの代表的なモジュールを紹介します。"
   ]
  },
  {
   "cell_type": "markdown",
   "metadata": {},
   "source": [
    "## `os` モジュール\n",
    "ファイルシステムの操作や環境変数の取得などに使用されます。"
   ]
  },
  {
   "cell_type": "code",
   "execution_count": null,
   "metadata": {},
   "outputs": [],
   "source": [
    "# osモジュールの使用例\n",
    "import os\n",
    "\n",
    "print(os.getcwd())  # カレントディレクトリの取得\n",
    "print(os.listdir(\".\"))  # ディレクトリ内のファイル一覧取得"
   ]
  },
  {
   "cell_type": "markdown",
   "metadata": {},
   "source": [
    "## `sys` モジュール\n",
    "システム関連の情報にアクセスでき、コマンドライン引数などの操作が可能です。"
   ]
  },
  {
   "cell_type": "code",
   "execution_count": null,
   "metadata": {},
   "outputs": [],
   "source": [
    "# sysモジュールの使用例\n",
    "import sys\n",
    "\n",
    "print(sys.version)  # Pythonのバージョンを表示\n",
    "print(sys.argv)  # コマンドライン引数を表示"
   ]
  },
  {
   "cell_type": "markdown",
   "metadata": {},
   "source": [
    "## `math` モジュール\n",
    "数学的な計算に便利な関数が含まれています。"
   ]
  },
  {
   "cell_type": "code",
   "execution_count": null,
   "metadata": {},
   "outputs": [],
   "source": [
    "# mathモジュールの使用例\n",
    "import math\n",
    "\n",
    "print(math.pi)  # 円周率\n",
    "print(math.factorial(5))  # 階乗"
   ]
  }
 ],
 "metadata": {
  "kernelspec": {
   "display_name": "Python 3",
   "language": "python",
   "name": "python3"
  },
  "language_info": {
   "name": "python"
  }
 },
 "nbformat": 4,
 "nbformat_minor": 2
}
