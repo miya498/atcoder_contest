{
 "cells": [
  {
   "cell_type": "markdown",
   "metadata": {},
   "source": [
    "# パッケージ\n",
    "\n",
    "このノートブックでは、Pythonのパッケージについて説明します。パッケージを使うことで、モジュールをフォルダ単位で構造化し、整理することができます。"
   ]
  },
  {
   "cell_type": "markdown",
   "metadata": {},
   "source": [
    "## パッケージのインポート\n",
    "`import` を使ってパッケージ内のモジュールをインポートできます。\n",
    "\n",
    "パッケージ構造の例:\n",
    "\n",
    "```\n",
    "my_package/\n",
    "    __init__.py\n",
    "    module1.py\n",
    "    module2.py\n",
    "```\n",
    "\n",
    "この場合、`my_package.module1` のようにしてモジュールをインポートします。"
   ]
  },
  {
   "cell_type": "code",
   "execution_count": null,
   "metadata": {},
   "outputs": [],
   "source": [
    "# パッケージ内モジュールのインポート例\n",
    "# 実際のパッケージ構造が必要\n",
    "# from my_package import module1\n",
    "# print(module1.some_function())"
   ]
  },
  {
   "cell_type": "markdown",
   "metadata": {},
   "source": [
    "## `__init__.py` の役割\n",
    "`__init__.py` ファイルは、ディレクトリをパッケージとして認識させるために必要です。パッケージ内で初期化処理を行ったり、サブモジュールをインポートしたりできます。"
   ]
  }
 ],
 "metadata": {
  "kernelspec": {
   "display_name": "Python 3",
   "language": "python",
   "name": "python3"
  },
  "language_info": {
   "name": "python"
  }
 },
 "nbformat": 4,
 "nbformat_minor": 2
}
