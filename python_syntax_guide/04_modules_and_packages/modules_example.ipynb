{
 "cells": [
  {
   "cell_type": "markdown",
   "metadata": {},
   "source": [
    "# よく使われるPythonモジュールの紹介\n",
    "\n",
    "このノートブックでは、Pythonでよく使われるモジュールの一部について紹介します。"
   ]
  },
  {
   "cell_type": "markdown",
   "metadata": {},
   "source": [
    "## `math` モジュール\n",
    "\n",
    "数学的な計算に便利な関数が多数含まれています。"
   ]
  },
  {
   "cell_type": "code",
   "execution_count": null,
   "metadata": {},
   "outputs": [],
   "source": [
    "import math\n",
    "\n",
    "# 平方根の計算\n",
    "print(\"Square root of 16:\", math.sqrt(16))\n",
    "\n",
    "# 円周率\n",
    "print(\"Value of pi:\", math.pi)\n",
    "\n",
    "# サイン関数\n",
    "print(\"sin(90 degrees):\", math.sin(math.radians(90)))"
   ]
  },
  {
   "cell_type": "markdown",
   "metadata": {},
   "source": [
    "## `datetime` モジュール\n",
    "\n",
    "日付や時刻の操作に便利な機能が含まれています。"
   ]
  },
  {
   "cell_type": "code",
   "execution_count": null,
   "metadata": {},
   "outputs": [],
   "source": [
    "from datetime import datetime, timedelta\n",
    "\n",
    "# 現在の日付と時刻\n",
    "now = datetime.now()\n",
    "print(\"Current date and time:\", now)\n",
    "\n",
    "# 日付の差分計算\n",
    "future_date = now + timedelta(days=10)\n",
    "print(\"Date 10 days from now:\", future_date)"
   ]
  },
  {
   "cell_type": "markdown",
   "metadata": {},
   "source": [
    "## `os` モジュール\n",
    "\n",
    "オペレーティングシステムとの対話に使用されます。ファイル操作や環境変数の取得が可能です。"
   ]
  },
  {
   "cell_type": "code",
   "execution_count": null,
   "metadata": {},
   "outputs": [],
   "source": [
    "import os\n",
    "\n",
    "# カレントディレクトリの取得\n",
    "print(\"Current working directory:\", os.getcwd())\n",
    "\n",
    "# 環境変数の取得\n",
    "print(\"PATH environment variable:\", os.environ.get('PATH'))"
   ]
  },
  {
   "cell_type": "markdown",
   "metadata": {},
   "source": [
    "## `sys` モジュール\n",
    "\n",
    "システム関連の情報や関数を提供します。コマンドライン引数やPythonのバージョン情報を取得できます。"
   ]
  },
  {
   "cell_type": "code",
   "execution_count": null,
   "metadata": {},
   "outputs": [],
   "source": [
    "import sys\n",
    "\n",
    "# Pythonのバージョン\n",
    "print(\"Python version:\", sys.version)\n",
    "\n",
    "# コマンドライン引数\n",
    "print(\"Command line arguments:\", sys.argv)"
   ]
  },
  {
   "cell_type": "markdown",
   "metadata": {},
   "source": [
    "## `collections` モジュール\n",
    "\n",
    "Pythonの組み込みデータ型を補完するための特殊なコンテナデータ型を提供します。"
   ]
  },
  {
   "cell_type": "code",
   "execution_count": 1,
   "metadata": {},
   "outputs": [
    {
     "name": "stdout",
     "output_type": "stream",
     "text": [
      "Element counts: Counter({3: 3, 2: 2, 1: 1, 4: 1})\n",
      "Defaultdict example: {'a': 1, 'b': 2}\n"
     ]
    }
   ],
   "source": [
    "from collections import Counter, defaultdict\n",
    "\n",
    "# Counterの使用例\n",
    "data = [1, 2, 2, 3, 3, 3, 4]\n",
    "counter = Counter(data)\n",
    "print(\"Element counts:\", counter)\n",
    "\n",
    "# defaultdictの使用例\n",
    "dd = defaultdict(int)\n",
    "dd['a'] += 1\n",
    "dd['b'] += 2\n",
    "print(\"Defaultdict example:\", dict(dd))"
   ]
  }
 ],
 "metadata": {
  "kernelspec": {
   "display_name": "Python 3",
   "language": "python",
   "name": "python3"
  },
  "language_info": {
   "codemirror_mode": {
    "name": "ipython",
    "version": 3
   },
   "file_extension": ".py",
   "mimetype": "text/x-python",
   "name": "python",
   "nbconvert_exporter": "python",
   "pygments_lexer": "ipython3",
   "version": "3.12.4"
  }
 },
 "nbformat": 4,
 "nbformat_minor": 2
}
