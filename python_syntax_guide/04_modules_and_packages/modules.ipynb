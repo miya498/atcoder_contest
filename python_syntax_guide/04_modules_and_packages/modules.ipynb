{
 "cells": [
  {
   "cell_type": "markdown",
   "metadata": {},
   "source": [
    "# モジュール\n",
    "\n",
    "このノートブックでは、Pythonのモジュールについて説明します。モジュールを使うことで、コードを分割して再利用可能にすることができます。"
   ]
  },
  {
   "cell_type": "markdown",
   "metadata": {},
   "source": [
    "## モジュールのインポート\n",
    "`import` キーワードを使ってモジュールをインポートします。"
   ]
  },
  {
   "cell_type": "code",
   "execution_count": null,
   "metadata": {},
   "outputs": [],
   "source": [
    "# mathモジュールのインポート\n",
    "import math\n",
    "\n",
    "print(math.sqrt(16))  # 4.0"
   ]
  },
  {
   "cell_type": "markdown",
   "metadata": {},
   "source": [
    "## 特定の関数のみをインポート\n",
    "`from ... import ...` 構文を使って、モジュール内の特定の関数や変数のみをインポートできます。"
   ]
  },
  {
   "cell_type": "code",
   "execution_count": null,
   "metadata": {},
   "outputs": [],
   "source": [
    "# mathモジュールからsqrt関数のみをインポート\n",
    "from math import sqrt\n",
    "\n",
    "print(sqrt(25))  # 5.0"
   ]
  },
  {
   "cell_type": "markdown",
   "metadata": {},
   "source": [
    "## モジュールに別名を付ける\n",
    "モジュールに別名を付けることで、コードを簡潔に記述できます。"
   ]
  },
  {
   "cell_type": "code",
   "execution_count": null,
   "metadata": {},
   "outputs": [],
   "source": [
    "# mathモジュールに別名を付ける\n",
    "import math as m\n",
    "\n",
    "print(m.pow(2, 3))  # 8.0"
   ]
  }
 ],
 "metadata": {
  "kernelspec": {
   "display_name": "Python 3",
   "language": "python",
   "name": "python3"
  },
  "language_info": {
   "name": "python"
  }
 },
 "nbformat": 4,
 "nbformat_minor": 2
}
