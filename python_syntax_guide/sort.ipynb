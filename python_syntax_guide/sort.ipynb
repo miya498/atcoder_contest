{
    "cells": [
     {
      "cell_type": "markdown",
      "metadata": {},
      "source": [
       "## Pythonのソート（`sort()` と `sorted()`）"
      ]
     },
     {
      "cell_type": "markdown",
      "metadata": {},
      "source": [
       "### 1. `sort()` と `sorted()` の違い"
      ]
     },
     {
      "cell_type": "code",
      "execution_count": null,
      "metadata": {},
      "outputs": [],
      "source": [
       "# `sort()` はリストを「その場で」変更する（破壊的）\n",
       "arr = [5, 2, 8, 1, 3]\n",
       "arr.sort()\n",
       "print(arr)  # [1, 2, 3, 5, 8]\n",
       "\n",
       "# `sorted()` は新しいリストを作成（非破壊的）\n",
       "arr = [5, 2, 8, 1, 3]\n",
       "sorted_arr = sorted(arr)\n",
       "print(arr)        # 元のリストは変更されない [5, 2, 8, 1, 3]\n",
       "print(sorted_arr) # [1, 2, 3, 5, 8]"
      ]
     },
     {
      "cell_type": "markdown",
      "metadata": {},
      "source": [
       "### 2. 降順ソート"
      ]
     },
     {
      "cell_type": "code",
      "execution_count": null,
      "metadata": {},
      "outputs": [],
      "source": [
       "arr = [5, 2, 8, 1, 3]\n",
       "\n",
       "# `sort()` を使って降順ソート\n",
       "arr.sort(reverse=True)\n",
       "print(arr)  # [8, 5, 3, 2, 1]\n",
       "\n",
       "# `sorted()` を使って降順ソート\n",
       "sorted_arr = sorted(arr, reverse=True)\n",
       "print(sorted_arr)  # [8, 5, 3, 2, 1]"
      ]
     },
     {
      "cell_type": "markdown",
      "metadata": {},
      "source": [
       "### 3. 文字列リストのソート"
      ]
     },
     {
      "cell_type": "code",
      "execution_count": null,
      "metadata": {},
      "outputs": [],
      "source": [
       "words = [\"banana\", \"apple\", \"cherry\"]\n",
       "\n",
       "# アルファベット順（辞書順）\n",
       "print(sorted(words))  # ['apple', 'banana', 'cherry']\n",
       "\n",
       "# 長さ順にソート\n",
       "print(sorted(words, key=len))  # ['apple', 'banana', 'cherry']"
      ]
     },
     {
      "cell_type": "markdown",
      "metadata": {},
      "source": [
       "### 4. `key` を使ったカスタムソート"
      ]
     },
     {
      "cell_type": "code",
      "execution_count": null,
      "metadata": {},
      "outputs": [],
      "source": [
       "arr = [\"10\", \"2\", \"30\", \"22\"]\n",
       "\n",
       "# 数値としてソート（デフォルトでは文字列比較）\n",
       "print(sorted(arr))  # ['10', '2', '22', '30']\n",
       "print(sorted(arr, key=int))  # ['2', '10', '22', '30']"
      ]
     },
     {
      "cell_type": "markdown",
      "metadata": {},
      "source": [
       "### 5. `lambda` を使った複雑なソート"
      ]
     },
     {
      "cell_type": "code",
      "execution_count": null,
      "metadata": {},
      "outputs": [],
      "source": [
       "students = [(\"Alice\", 90), (\"Bob\", 85), (\"Charlie\", 95)]\n",
       "\n",
       "# 2番目の要素（成績）でソート\n",
       "print(sorted(students, key=lambda x: x[1]))  # [('Bob', 85), ('Alice', 90), ('Charlie', 95)]"
      ]
     },
     {
      "cell_type": "markdown",
      "metadata": {},
      "source": [
       "### 6. `operator` モジュールを使ったカスタムソート（推奨）"
      ]
     },
     {
      "cell_type": "code",
      "execution_count": null,
      "metadata": {},
      "outputs": [],
      "source": [
       "from operator import itemgetter\n",
       "\n",
       "students = [(\"Alice\", 90), (\"Bob\", 85), (\"Charlie\", 95)]\n",
       "\n",
       "# itemgetter(1) を使って2番目の要素（成績）でソート\n",
       "print(sorted(students, key=itemgetter(1)))  # [('Bob', 85), ('Alice', 90), ('Charlie', 95)]"
      ]
     },
     {
      "cell_type": "markdown",
      "metadata": {},
      "source": [
       "### 7. 2つのキーでソート（成績 → 名前順）"
      ]
     },
     {
      "cell_type": "code",
      "execution_count": null,
      "metadata": {},
      "outputs": [],
      "source": [
       "students = [(\"Alice\", 90), (\"Bob\", 85), (\"Charlie\", 95), (\"Alice\", 85)]\n",
       "\n",
       "# まず成績（降順）、次に名前（昇順）\n",
       "print(sorted(students, key=lambda x: (-x[1], x[0])))\n",
       "# [('Charlie', 95), ('Alice', 90), ('Alice', 85), ('Bob', 85)]"
      ]
     },
     {
      "cell_type": "markdown",
      "metadata": {},
      "source": [
       "## ソートの活用シナリオ\n",
       "\n",
       "| 用途 | ソート方法 | 例 |\n",
       "|------|------|------|\n",
       "| 昇順ソート | `sorted(arr)` | `[1, 2, 3]` |\n",
       "| 降順ソート | `sorted(arr, reverse=True)` | `[3, 2, 1]` |\n",
       "| 破壊的ソート | `arr.sort()` | `arr` が変更される |\n",
       "| 文字列ソート | `sorted(words)` | `['apple', 'banana']` |\n",
       "| 長さ順ソート | `sorted(words, key=len)` | `['cat', 'elephant']` |\n",
       "| 数値ソート | `sorted(arr, key=int)` | `['2', '10', '22']` |\n",
       "| タプルのカスタムソート | `sorted(data, key=lambda x: x[1])` | `key` を指定 |\n",
       "| `operator` でソート | `sorted(data, key=itemgetter(1))` | `operator` の利用 |\n",
       "\n",
       "ソートを活用することで、データ処理や競技プログラミングが **より効率的** になります！ 🚀"
      ]
     }
    ],
    "metadata": {
     "kernelspec": {
      "display_name": "Python 3",
      "language": "python",
      "name": "python3"
     },
     "language_info": {
      "codemirror_mode": {
       "name": "ipython",
       "version": 3
      },
      "file_extension": ".py",
      "mimetype": "text/x-python",
      "name": "python",
      "nbconvert_exporter": "python",
      "pygments_lexer": "ipython3",
      "version": "3.8.10"
     }
    },
    "nbformat": 4,
    "nbformat_minor": 4
   }
