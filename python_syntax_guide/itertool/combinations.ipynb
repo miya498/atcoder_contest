{
 "cells": [
  {
   "cell_type": "markdown",
   "metadata": {},
   "source": [
    "# `itertools` の組み合わせ・順列（競技プログラミング向け）"
   ]
  },
  {
   "cell_type": "markdown",
   "metadata": {},
   "source": [
    "## 1. `itertools.permutations()`（順列）"
   ]
  },
  {
   "cell_type": "markdown",
   "metadata": {},
   "source": [
    "**概要:**\n",
    "- 順列とは、要素の **順序を考慮した並び替え** です。\n",
    "- `itertools.permutations(iterable, r)` を使うと、要素の順列（並び替え）を生成できます。\n",
    "- `r` を指定すると `r` 個の順列を生成できます。\n",
    "- **計算量:** $O(n!)$（全順列を生成すると爆発的に増加するため注意）\n",
    "\n",
    "**競技プログラミングでの活用例:**\n",
    "- **全探索（小さい制約の時）**\n",
    "- **順列の組み合わせを考慮する問題（TSPなど）**"
   ]
  },
  {
   "cell_type": "code",
   "execution_count": 1,
   "metadata": {},
   "outputs": [
    {
     "name": "stdout",
     "output_type": "stream",
     "text": [
      "(1, 2, 3)\n",
      "(1, 3, 2)\n",
      "(2, 1, 3)\n",
      "(2, 3, 1)\n",
      "(3, 1, 2)\n",
      "(3, 2, 1)\n",
      "(1, 2)\n",
      "(1, 3)\n",
      "(2, 1)\n",
      "(2, 3)\n",
      "(3, 1)\n",
      "(3, 2)\n"
     ]
    }
   ],
   "source": [
    "from itertools import permutations\n",
    "\n",
    "# 順列を生成\n",
    "data = [1, 2, 3]\n",
    "for perm in permutations(data):\n",
    "    print(perm)\n",
    "\n",
    "# 部分順列（r=2 の場合）\n",
    "for perm in permutations(data, 2):\n",
    "    print(perm)"
   ]
  },
  {
   "cell_type": "markdown",
   "metadata": {},
   "source": [
    "## 2. `itertools.combinations()`（組み合わせ）"
   ]
  },
  {
   "cell_type": "markdown",
   "metadata": {},
   "source": [
    "**概要:**\n",
    "- 組み合わせとは、要素の **順序を考慮しないグループ分け** です。\n",
    "- `itertools.combinations(iterable, r)` を使うと、`r` 個の組み合わせを列挙できます。\n",
    "- **計算量:** $O(nCr)$（$n! / (r! (n-r)!)$）\n",
    "\n",
    "**競技プログラミングでの活用例:**\n",
    "- **部分集合を全探索（小さい制約の場合）**\n",
    "- **ペアやグループを作成する問題**"
   ]
  },
  {
   "cell_type": "code",
   "execution_count": 2,
   "metadata": {},
   "outputs": [
    {
     "name": "stdout",
     "output_type": "stream",
     "text": [
      "(1, 2)\n",
      "(1, 3)\n",
      "(1, 4)\n",
      "(2, 3)\n",
      "(2, 4)\n",
      "(3, 4)\n"
     ]
    }
   ],
   "source": [
    "from itertools import combinations\n",
    "\n",
    "# 組み合わせを生成\n",
    "data = [1, 2, 3, 4]\n",
    "for comb in combinations(data, 2):\n",
    "    print(comb)"
   ]
  },
  {
   "cell_type": "markdown",
   "metadata": {},
   "source": [
    "## 3. `itertools.combinations_with_replacement()`（重複ありの組み合わせ）"
   ]
  },
  {
   "cell_type": "markdown",
   "metadata": {},
   "source": [
    "**概要:**\n",
    "- `combinations_with_replacement(iterable, r)` を使うと、**同じ要素を複数回選べる組み合わせ** を生成できます。\n",
    "- **計算量:** $O(nHr)$（$\\frac{(n+r-1)!}{r!(n-1)!}$）\n",
    "\n",
    "**競技プログラミングでの活用例:**\n",
    "- **数列の構成を考える問題**\n",
    "- **制約付きの組み合わせ選択**（例: 「合計が `S` になる `r` 個の数字の組み合わせ」）"
   ]
  },
  {
   "cell_type": "code",
   "execution_count": 3,
   "metadata": {},
   "outputs": [
    {
     "name": "stdout",
     "output_type": "stream",
     "text": [
      "(1, 1)\n",
      "(1, 2)\n",
      "(1, 3)\n",
      "(2, 2)\n",
      "(2, 3)\n",
      "(3, 3)\n"
     ]
    }
   ],
   "source": [
    "from itertools import combinations_with_replacement\n",
    "\n",
    "# 重複ありの組み合わせを生成\n",
    "data = [1, 2, 3]\n",
    "for comb in combinations_with_replacement(data, 2):\n",
    "    print(comb)"
   ]
  },
  {
   "cell_type": "markdown",
   "metadata": {},
   "source": [
    "## 4. 競技プログラミングでの応用例"
   ]
  },
  {
   "cell_type": "markdown",
   "metadata": {},
   "source": [
    "### 📌 問題: すべての部分集合を列挙（bit 全探索と比較）\n",
    "- **概要:** `n` 個の要素の部分集合をすべて列挙する。\n",
    "- **制約:** `n ≤ 20` なら `combinations()` が使える。\n",
    "- `bit全探索` との比較。"
   ]
  },
  {
   "cell_type": "code",
   "execution_count": 4,
   "metadata": {},
   "outputs": [
    {
     "name": "stdout",
     "output_type": "stream",
     "text": [
      "()\n",
      "(1,)\n",
      "(2,)\n",
      "(3,)\n",
      "(1, 2)\n",
      "(1, 3)\n",
      "(2, 3)\n",
      "(1, 2, 3)\n",
      "[]\n",
      "[1]\n",
      "[2]\n",
      "[1, 2]\n",
      "[3]\n",
      "[1, 3]\n",
      "[2, 3]\n",
      "[1, 2, 3]\n"
     ]
    }
   ],
   "source": [
    "# `combinations` を使った部分集合の列挙\n",
    "data = [1, 2, 3]\n",
    "for r in range(len(data) + 1):\n",
    "    for comb in combinations(data, r):\n",
    "        print(comb)\n",
    "\n",
    "# ビット全探索との比較\n",
    "n = len(data)\n",
    "for bit in range(1 << n):  # 2^n 通りの探索\n",
    "    subset = [data[i] for i in range(n) if (bit & (1 << i))]\n",
    "    print(subset)"
   ]
  },
  {
   "cell_type": "markdown",
   "metadata": {},
   "source": [
    "## 5. まとめ"
   ]
  },
  {
   "cell_type": "markdown",
   "metadata": {},
   "source": [
    "| 関数 | 説明 | 計算量 |\n",
    "|------|------|------|\n",
    "| `permutations(iterable, r)` | 順列（並び順を考慮） | $O(n!)$ |\n",
    "| `combinations(iterable, r)` | 組み合わせ（順序を考慮しない） | $O(nCr)$ |\n",
    "| `combinations_with_replacement(iterable, r)` | 重複ありの組み合わせ | $O(nHr)$ |\n",
    "\n",
    "競技プログラミングでは **組み合わせの列挙が必要な問題** で活用できる！🚀"
   ]
  }
 ],
 "metadata": {
  "kernelspec": {
   "display_name": "Python 3",
   "language": "python",
   "name": "python3"
  },
  "language_info": {
   "codemirror_mode": {
    "name": "ipython",
    "version": 3
   },
   "file_extension": ".py",
   "mimetype": "text/x-python",
   "name": "python",
   "nbconvert_exporter": "python",
   "pygments_lexer": "ipython3",
   "version": "3.12.4"
  }
 },
 "nbformat": 4,
 "nbformat_minor": 4
}
