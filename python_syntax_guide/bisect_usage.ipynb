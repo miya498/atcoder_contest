{
    "cells": [
     {
      "cell_type": "markdown",
      "metadata": {},
      "source": [
       "# `bisect` モジュール（二分探索）"
      ]
     },
     {
      "cell_type": "markdown",
      "metadata": {},
      "source": [
       "## 1. `bisect` とは？"
      ]
     },
     {
      "cell_type": "markdown",
      "metadata": {},
      "source": [
       "**概要:**\n",
       "- `bisect` モジュールは **二分探索（二分法）を効率的に行うための標準ライブラリ**。\n",
       "- ソート済みリストに対して、高速な検索・挿入位置の決定ができる。\n",
       "- **計算量:** $O(\\log N)$（高速）\n",
       "\n",
       "**競技プログラミングでの活用例:**\n",
       "- **ソート済みデータの探索**（`lower_bound` / `upper_bound`）\n",
       "- **座標圧縮（Coordinate Compression）**\n",
       "- **累積和や動的なデータ管理の高速検索**"
      ]
     },
     {
      "cell_type": "markdown",
      "metadata": {},
      "source": [
       "## 2. `bisect.bisect_left()` と `bisect.bisect_right()`"
      ]
     },
     {
      "cell_type": "markdown",
      "metadata": {},
      "source": [
       "**`bisect_left(sorted_list, x)`**:\n",
       "- `x` を挿入できる最も左の位置を返す（`lower_bound`）。\n",
       "- `sorted_list` 内で `x` 以上の最小のインデックスを求める。\n",
       "\n",
       "**`bisect_right(sorted_list, x)`**:\n",
       "- `x` を挿入できる最も右の位置を返す（`upper_bound`）。\n",
       "- `sorted_list` 内で `x` より大きい最小のインデックスを求める。"
      ]
     },
     {
      "cell_type": "code",
      "execution_count": null,
      "metadata": {},
      "outputs": [],
      "source": [
       "import bisect\n",
       "\n",
       "arr = [1, 3, 3, 5, 7, 9]\n",
       "x = 3\n",
       "\n",
       "print(bisect.bisect_left(arr, x))  # 1（最初の 3 の位置）\n",
       "print(bisect.bisect_right(arr, x)) # 3（3 より大きい数の位置）"
      ]
     },
     {
      "cell_type": "markdown",
      "metadata": {},
      "source": [
       "## 3. `bisect.insort_left()` と `bisect.insort_right()`"
      ]
     },
     {
      "cell_type": "markdown",
      "metadata": {},
      "source": [
       "**概要:**\n",
       "- `insort_left(sorted_list, x)`: `x` を適切な位置に挿入（`bisect_left` の位置）。\n",
       "- `insort_right(sorted_list, x)`: `x` を適切な位置に挿入（`bisect_right` の位置）。\n",
       "- **挿入後もリストがソート状態を維持** する。"
      ]
     },
     {
      "cell_type": "code",
      "execution_count": null,
      "metadata": {},
      "outputs": [],
      "source": [
       "# `insort_left()` の使用例\n",
       "arr = [1, 3, 5, 7]\n",
       "bisect.insort_left(arr, 4)\n",
       "print(arr)  # [1, 3, 4, 5, 7]\n",
       "\n",
       "# `insort_right()` の使用例\n",
       "arr = [1, 3, 5, 7]\n",
       "bisect.insort_right(arr, 5)\n",
       "print(arr)  # [1, 3, 5, 5, 7]"
      ]
     },
     {
      "cell_type": "markdown",
      "metadata": {},
      "source": [
       "## 4. `bisect` を使った競技プログラミングの応用"
      ]
     },
     {
      "cell_type": "markdown",
      "metadata": {},
      "source": [
       "### 📌 問題: ある値 `x` が `sorted_list` に存在するかを高速判定\n",
       "- **`bisect_left()` を使って `x` がリスト内にあるかチェック**"
      ]
     },
     {
      "cell_type": "code",
      "execution_count": null,
      "metadata": {},
      "outputs": [],
      "source": [
       "# `x` が sorted_list に存在するか判定\n",
       "def exists_in_sorted_list(sorted_list, x):\n",
       "    idx = bisect.bisect_left(sorted_list, x)\n",
       "    return idx < len(sorted_list) and sorted_list[idx] == x\n",
       "\n",
       "arr = [1, 3, 5, 7, 9]\n",
       "print(exists_in_sorted_list(arr, 5))  # True\n",
       "print(exists_in_sorted_list(arr, 6))  # False"
      ]
     },
     {
      "cell_type": "markdown",
      "metadata": {},
      "source": [
       "### 📌 問題: `x` 以下の最大値（`floor(x)`）を求める\n",
       "- `bisect_right()` を使うと `x` 以下の最大値が求められる。"
      ]
     },
     {
      "cell_type": "code",
      "execution_count": null,
      "metadata": {},
      "outputs": [],
      "source": [
       "# `x` 以下の最大値（floor(x)）を求める\n",
       "def floor_x(sorted_list, x):\n",
       "    idx = bisect.bisect_right(sorted_list, x) - 1\n",
       "    return sorted_list[idx] if idx >= 0 else None\n",
       "\n",
       "arr = [1, 3, 5, 7, 9]\n",
       "print(floor_x(arr, 6))  # 5\n",
       "print(floor_x(arr, 0))  # None（存在しない）"
      ]
     },
     {
      "cell_type": "markdown",
      "metadata": {},
      "source": [
       "## 5. まとめ"
      ]
     },
     {
      "cell_type": "markdown",
      "metadata": {},
      "source": [
       "| 関数 | 説明 | 計算量 |\n",
       "|------|------|------|\n",
       "| `bisect_left(sorted_list, x)` | `x` 以上の最小のインデックス | $O(\\log N)$ |\n",
       "| `bisect_right(sorted_list, x)` | `x` より大きい最小のインデックス | $O(\\log N)$ |\n",
       "| `insort_left(sorted_list, x)` | `x` を `bisect_left` の位置に挿入 | $O(N)$ |\n",
       "| `insort_right(sorted_list, x)` | `x` を `bisect_right` の位置に挿入 | $O(N)$ |\n",
       "\n",
       "`bisect` を使うことで、ソート済みリストの検索・挿入が高速に行える！🚀"
      ]
     }
    ],
    "metadata": {
     "kernelspec": {
      "display_name": "Python 3",
      "language": "python",
      "name": "python3"
     }
    },
    "nbformat": 4,
    "nbformat_minor": 4
   }
   