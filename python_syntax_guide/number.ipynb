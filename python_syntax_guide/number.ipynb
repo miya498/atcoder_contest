{
    "cells": [
     {
      "cell_type": "markdown",
      "metadata": {},
      "source": [
       "# Pythonの四捨五入・数値の丸め処理 & 0パディング"
      ]
     },
     {
      "cell_type": "markdown",
      "metadata": {},
      "source": [
       "## 1. `round()` を使った四捨五入"
      ]
     },
     {
      "cell_type": "markdown",
      "metadata": {},
      "source": [
       "**概要**:\n",
       "- Python の `round()` 関数は **四捨五入** を行う。\n",
       "- 小数点以下の桁数を指定可能。\n",
       "- **注意:** Python の `round()` は「**偶数丸め**（Bankers' Rounding）」を採用している。\n",
       "- **計算量:** $O(1)$（定数時間）"
      ]
     },
     {
      "cell_type": "code",
      "execution_count": null,
      "metadata": {},
      "outputs": [],
      "source": [
       "# `round()` の基本的な使い方\n",
       "print(round(3.14159, 2))  # 3.14\n",
       "print(round(3.5))  # 4\n",
       "print(round(2.5))  # 2（偶数丸め）"
      ]
     },
     {
      "cell_type": "markdown",
      "metadata": {},
      "source": [
       "## 2. `math.floor()` と `math.ceil()` を使った切り捨て・切り上げ"
      ]
     },
     {
      "cell_type": "markdown",
      "metadata": {},
      "source": [
       "**概要**:\n",
       "- `math.floor(x)`: **x を切り捨て（小さい方向に丸める）**。\n",
       "- `math.ceil(x)`: **x を切り上げ（大きい方向に丸める）**。\n",
       "- **計算量:** $O(1)$（定数時間）"
      ]
     },
     {
      "cell_type": "code",
      "execution_count": null,
      "metadata": {},
      "outputs": [],
      "source": [
       "import math\n",
       "\n",
       "print(math.floor(3.7))  # 3\n",
       "print(math.ceil(3.2))   # 4"
      ]
     },
     {
      "cell_type": "markdown",
      "metadata": {},
      "source": [
       "## 3. `math.trunc()` を使ったゼロ方向への丸め"
      ]
     },
     {
      "cell_type": "markdown",
      "metadata": {},
      "source": [
       "**概要**:\n",
       "- `math.trunc(x)`: **x の小数部分を切り捨て、整数部分のみを取得**。\n",
       "- 負の数の場合でもゼロ方向へ丸められる。\n",
       "- **計算量:** $O(1)$（定数時間）"
      ]
     },
     {
      "cell_type": "code",
      "execution_count": null,
      "metadata": {},
      "outputs": [],
      "source": [
       "print(math.trunc(3.7))  # 3\n",
       "print(math.trunc(-3.7)) # -3"
      ]
     },
     {
      "cell_type": "markdown",
      "metadata": {},
      "source": [
       "## 4. `decimal` モジュールを使った正確な四捨五入"
      ]
     },
     {
      "cell_type": "code",
      "execution_count": null,
      "metadata": {},
      "outputs": [],
      "source": [
       "from decimal import Decimal, ROUND_HALF_UP\n",
       "\n",
       "num = Decimal('3.14159')\n",
       "print(num.quantize(Decimal('0.01'), rounding=ROUND_HALF_UP))  # 3.14"
      ]
     },
     {
      "cell_type": "markdown",
      "metadata": {},
      "source": [
       "## 5. `zfill()` を使ったゼロ埋め（0パディング）"
      ]
     },
     {
      "cell_type": "markdown",
      "metadata": {},
      "source": [
       "**概要**:\n",
       "- `str.zfill(n)` を使うと **n 桁になるようにゼロ埋め（0パディング）** できる。\n",
       "- 文字列の左側に 0 を追加する。\n",
       "- **計算量:** $O(1)$（定数時間）"
      ]
     },
     {
      "cell_type": "code",
      "execution_count": null,
      "metadata": {},
      "outputs": [],
      "source": [
       "# `zfill()` の使用例\n",
       "num_str = \"42\"\n",
       "print(num_str.zfill(5))  # '00042'\n",
       "\n",
       "# 負の数にも対応\n",
       "print(\"-42\".zfill(5))  # '-0042'"
      ]
     },
     {
      "cell_type": "markdown",
      "metadata": {},
      "source": [
       "## 6. `rjust()` を使ったゼロ埋め"
      ]
     },
     {
      "cell_type": "code",
      "execution_count": null,
      "metadata": {},
      "outputs": [],
      "source": [
       "# `rjust()` の使用例\n",
       "num_str = \"42\"\n",
       "print(num_str.rjust(5, '0'))  # '00042'"
      ]
     },
     {
      "cell_type": "markdown",
      "metadata": {},
      "source": [
       "## 7. `format()` を使った 0 埋め"
      ]
     },
     {
      "cell_type": "code",
      "execution_count": null,
      "metadata": {},
      "outputs": [],
      "source": [
       "# `format()` を使ったゼロ埋め\n",
       "num = 42\n",
       "print(\"{:05d}\".format(num))  # '00042'\n",
       "\n",
       "# f-string を使う\n",
       "print(f\"{num:05d}\")  # '00042'"
      ]
     },
     {
      "cell_type": "markdown",
      "metadata": {},
      "source": [
       "## 8. まとめ"
      ]
     },
     {
      "cell_type": "markdown",
      "metadata": {},
      "source": [
       "| 方法 | 説明 | 例 |\n",
       "|------|------|------|\n",
       "| `round(x, n)` | 四捨五入（偶数丸め） | `round(2.5) → 2` |\n",
       "| `math.floor(x)` | 小さい方向へ丸める | `floor(3.7) → 3` |\n",
       "| `math.ceil(x)` | 大きい方向へ丸める | `ceil(3.2) → 4` |\n",
       "| `zfill(n)` | 0 埋め（文字列左側） | `'42'.zfill(5) → '00042'` |\n",
       "| `rjust(n, '0')` | 0 埋め（文字列左側） | `'42'.rjust(5, '0') → '00042'` |\n",
       "| `format(x, '0nd')` | 0 埋め（整数） | `format(42, '05d') → '00042'` |\n",
       "| `f-string` | 0 埋め（整数） | `f\"{42:05d}\" → '00042'` |\n",
       "\n",
       "Python では **状況に応じた丸め処理とゼロ埋め** を使い分けることが重要です！ 🚀"
      ]
     }
    ],
    "metadata": {
     "kernelspec": {
      "display_name": "Python 3",
      "language": "python",
      "name": "python3"
     }
    },
    "nbformat": 4,
    "nbformat_minor": 4
   }
 