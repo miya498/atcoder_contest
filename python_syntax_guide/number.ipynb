{
    "cells": [
     {
      "cell_type": "markdown",
      "metadata": {},
      "source": [
       "# Pythonの四捨五入・数値の丸め処理"
      ]
     },
     {
      "cell_type": "markdown",
      "metadata": {},
      "source": [
       "## 1. `round()` を使った四捨五入"
      ]
     },
     {
      "cell_type": "markdown",
      "metadata": {},
      "source": [
       "**概要**:\n",
       "- Python の `round()` 関数は **四捨五入** を行う。\n",
       "- 小数点以下の桁数を指定可能。\n",
       "- **注意:** Python の `round()` は「**偶数丸め**（Bankers' Rounding）」を採用している。\n",
       "- **計算量:** $O(1)$（定数時間）"
      ]
     },
     {
      "cell_type": "code",
      "execution_count": null,
      "metadata": {},
      "outputs": [],
      "source": [
       "# `round()` の基本的な使い方\n",
       "print(round(3.14159, 2))  # 3.14\n",
       "print(round(3.5))  # 4\n",
       "print(round(2.5))  # 2（偶数丸め）"
      ]
     },
     {
      "cell_type": "markdown",
      "metadata": {},
      "source": [
       "## 2. `math.floor()` と `math.ceil()` を使った切り捨て・切り上げ"
      ]
     },
     {
      "cell_type": "markdown",
      "metadata": {},
      "source": [
       "**概要**:\n",
       "- `math.floor(x)`: **x を切り捨て（小さい方向に丸める）**。\n",
       "- `math.ceil(x)`: **x を切り上げ（大きい方向に丸める）**。\n",
       "- **計算量:** $O(1)$（定数時間）"
      ]
     },
     {
      "cell_type": "code",
      "execution_count": null,
      "metadata": {},
      "outputs": [],
      "source": [
       "import math\n",
       "\n",
       "print(math.floor(3.7))  # 3\n",
       "print(math.ceil(3.2))   # 4"
      ]
     },
     {
      "cell_type": "markdown",
      "metadata": {},
      "source": [
       "## 3. `math.trunc()` を使ったゼロ方向への丸め"
      ]
     },
     {
      "cell_type": "markdown",
      "metadata": {},
      "source": [
       "**概要**:\n",
       "- `math.trunc(x)`: **x の小数部分を切り捨て、整数部分のみを取得**。\n",
       "- 負の数の場合でもゼロ方向へ丸められる。\n",
       "- **計算量:** $O(1)$（定数時間）"
      ]
     },
     {
      "cell_type": "code",
      "execution_count": null,
      "metadata": {},
      "outputs": [],
      "source": [
       "print(math.trunc(3.7))  # 3\n",
       "print(math.trunc(-3.7)) # -3"
      ]
     },
     {
      "cell_type": "markdown",
      "metadata": {},
      "source": [
       "## 4. `decimal` モジュールを使った正確な四捨五入"
      ]
     },
     {
      "cell_type": "markdown",
      "metadata": {},
      "source": [
       "**概要**:\n",
       "- `decimal.Decimal` を使うと **精度を指定した数値計算が可能**。\n",
       "- `quantize()` を使って四捨五入できる。\n",
       "- **金融計算など高精度が必要な場合に有用**。\n",
       "- **計算量:** $O(1)$（定数時間）"
      ]
     },
     {
      "cell_type": "code",
      "execution_count": null,
      "metadata": {},
      "outputs": [],
      "source": [
       "from decimal import Decimal, ROUND_HALF_UP\n",
       "\n",
       "num = Decimal('3.14159')\n",
       "print(num.quantize(Decimal('0.01'), rounding=ROUND_HALF_UP))  # 3.14"
      ]
     },
     {
      "cell_type": "markdown",
      "metadata": {},
      "source": [
       "## 5. `int()` を使った整数変換（ゼロ方向丸め）"
      ]
     },
     {
      "cell_type": "markdown",
      "metadata": {},
      "source": [
       "**概要**:\n",
       "- `int(x)` は小数部分を **ゼロ方向へ丸めて整数に変換** する。\n",
       "- `math.trunc(x)` と同じ挙動。\n",
       "- **計算量:** $O(1)$（定数時間）"
      ]
     },
     {
      "cell_type": "code",
      "execution_count": null,
      "metadata": {},
      "outputs": [],
      "source": [
       "print(int(3.7))  # 3\n",
       "print(int(-3.7)) # -3"
      ]
     },
     {
      "cell_type": "markdown",
      "metadata": {},
      "source": [
       "## 6. `format()` を使った数値の丸め表示"
      ]
     },
     {
      "cell_type": "markdown",
      "metadata": {},
      "source": [
       "**概要**:\n",
       "- `format(x, \".nf\")` を使うと **小数点以下 `n` 桁で丸めて表示** できる。\n",
       "- **計算量:** $O(1)$（定数時間）"
      ]
     },
     {
      "cell_type": "code",
      "execution_count": null,
      "metadata": {},
      "outputs": [],
      "source": [
       "num = 3.14159\n",
       "print(format(num, \".2f\"))  # 3.14"
      ]
     },
     {
      "cell_type": "markdown",
      "metadata": {},
      "source": [
       "## まとめ"
      ]
     },
     {
      "cell_type": "markdown",
      "metadata": {},
      "source": [
       "| 方法 | 説明 | 例 |\n",
       "|------|------|------|\n",
       "| `round(x, n)` | 四捨五入（偶数丸め） | `round(2.5) → 2` |\n",
       "| `math.floor(x)` | 小さい方向へ丸める | `floor(3.7) → 3` |\n",
       "| `math.ceil(x)` | 大きい方向へ丸める | `ceil(3.2) → 4` |\n",
       "| `math.trunc(x)` | ゼロ方向へ丸める | `trunc(-3.7) → -3` |\n",
       "| `Decimal.quantize()` | 高精度な四捨五入 | `Decimal('3.14159').quantize(Decimal('0.01')) → 3.14` |\n",
       "| `int(x)` | 小数部分を削除（ゼロ方向） | `int(-3.7) → -3` |\n",
       "| `format(x, \".nf\")` | 小数点以下n桁に整形 | `format(3.14159, \".2f\") → '3.14'` |\n",
       "\n",
       "Python では **状況に応じた丸め処理** を使い分けることが重要です！ 🚀"
      ]
     }
    ],
    "metadata": {
     "kernelspec": {
      "display_name": "Python 3",
      "language": "python",
      "name": "python3"
     }
    },
    "nbformat": 4,
    "nbformat_minor": 4
   }
   