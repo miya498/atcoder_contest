{
 "cells": [
  {
   "cell_type": "markdown",
   "metadata": {},
   "source": [
    "# コンテキストマネージャ\n",
    "\n",
    "このノートブックでは、リソースの確保と解放を自動で行うコンテキストマネージャについて説明します。"
   ]
  },
  {
   "cell_type": "markdown",
   "metadata": {},
   "source": [
    "## 基本的なコンテキストマネージャ\n",
    "`with` キーワードを使って、ファイルの操作やリソースの管理を行います。"
   ]
  },
  {
   "cell_type": "code",
   "execution_count": null,
   "metadata": {},
   "outputs": [],
   "source": [
    "# ファイル操作の例\n",
    "with open(\"sample.txt\", \"w\") as file:\n",
    "    file.write(\"Hello, World!\")\n",
    "\n",
    "# ファイルは自動的に閉じられる"
   ]
  },
  {
   "cell_type": "markdown",
   "metadata": {},
   "source": [
    "## 独自のコンテキストマネージャを作成\n",
    "`__enter__` と `__exit__` メソッドを使って、独自のコンテキストマネージャを作成できます。"
   ]
  },
  {
   "cell_type": "code",
   "execution_count": null,
   "metadata": {},
   "outputs": [],
   "source": [
    "# 独自のコンテキストマネージャの例\n",
    "class MyContextManager:\n",
    "    def __enter__(self):\n",
    "        print(\"Entering context\")\n",
    "        return self\n",
    "    \n",
    "    def __exit__(self, exc_type, exc_value, traceback):\n",
    "        print(\"Exiting context\")\n",
    "\n",
    "with MyContextManager() as manager:\n",
    "    print(\"Inside context\")"
   ]
  }
 ],
 "metadata": {
  "kernelspec": {
   "display_name": "Python 3",
   "language": "python",
   "name": "python3"
  }
 },
 "nbformat": 4,
 "nbformat_minor": 2
}
