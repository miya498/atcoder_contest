{
 "cells": [
  {
   "cell_type": "markdown",
   "metadata": {},
   "source": [
    "## Pythonの `input()` と `split()` の使い方"
   ]
  },
  {
   "cell_type": "markdown",
   "metadata": {},
   "source": [
    "### 1. `input()` の基本"
   ]
  },
  {
   "cell_type": "code",
   "execution_count": 1,
   "metadata": {},
   "outputs": [
    {
     "name": "stdout",
     "output_type": "stream",
     "text": [
      "入力された文字列: \n"
     ]
    }
   ],
   "source": [
    "# 1行の入力を受け取る\n",
    "s = input()\n",
    "print(\"入力された文字列:\", s)"
   ]
  },
  {
   "cell_type": "code",
   "execution_count": 2,
   "metadata": {},
   "outputs": [
    {
     "name": "stdout",
     "output_type": "stream",
     "text": [
      "こんにちは、nya さん！\n"
     ]
    }
   ],
   "source": [
    "# プロンプト付きの入力\n",
    "name = input(\"名前を入力してください: \")\n",
    "print(f\"こんにちは、{name} さん！\")"
   ]
  },
  {
   "cell_type": "code",
   "execution_count": 3,
   "metadata": {},
   "outputs": [
    {
     "name": "stdout",
     "output_type": "stream",
     "text": [
      "入力された整数: 12\n"
     ]
    }
   ],
   "source": [
    "# 整数の入力を受け取る\n",
    "n = int(input(\"整数を入力してください: \"))\n",
    "print(\"入力された整数:\", n)"
   ]
  },
  {
   "cell_type": "markdown",
   "metadata": {},
   "source": [
    "### 2. `split()` を使った文字列の分割"
   ]
  },
  {
   "cell_type": "code",
   "execution_count": 4,
   "metadata": {},
   "outputs": [
    {
     "name": "stdout",
     "output_type": "stream",
     "text": [
      "['Hello', 'World', 'Python']\n"
     ]
    }
   ],
   "source": [
    "# 基本の split()\n",
    "s = \"Hello World Python\"\n",
    "words = s.split()\n",
    "print(words)  # ['Hello', 'World', 'Python']"
   ]
  },
  {
   "cell_type": "code",
   "execution_count": 5,
   "metadata": {},
   "outputs": [
    {
     "name": "stdout",
     "output_type": "stream",
     "text": [
      "['apple', 'banana', 'grape']\n"
     ]
    }
   ],
   "source": [
    "# カンマで分割\n",
    "s = \"apple,banana,grape\"\n",
    "fruits = s.split(\",\")\n",
    "print(fruits)  # ['apple', 'banana', 'grape']"
   ]
  },
  {
   "cell_type": "code",
   "execution_count": 6,
   "metadata": {},
   "outputs": [
    {
     "name": "stdout",
     "output_type": "stream",
     "text": [
      "['line1', 'line2', 'line3']\n"
     ]
    }
   ],
   "source": [
    "# 改行で分割\n",
    "s = \"line1\\nline2\\nline3\"\n",
    "lines = s.split(\"\\n\")\n",
    "print(lines)  # ['line1', 'line2', 'line3']"
   ]
  },
  {
   "cell_type": "markdown",
   "metadata": {},
   "source": [
    "### 3. `split()` と `input()` の組み合わせ"
   ]
  },
  {
   "cell_type": "code",
   "execution_count": 7,
   "metadata": {},
   "outputs": [
    {
     "name": "stdout",
     "output_type": "stream",
     "text": [
      "リストとして取得: [12, 223, 23]\n"
     ]
    }
   ],
   "source": [
    "# スペース区切りの入力をリストとして取得\n",
    "arr = list(map(int, input(\"数値をスペース区切りで入力: \").split()))\n",
    "print(\"リストとして取得:\", arr)"
   ]
  },
  {
   "cell_type": "code",
   "execution_count": 8,
   "metadata": {},
   "outputs": [
    {
     "name": "stdout",
     "output_type": "stream",
     "text": [
      "['one', 'two', 'three four five']\n"
     ]
    }
   ],
   "source": [
    "# 最大2回だけ分割\n",
    "s = \"one two three four five\"\n",
    "words = s.split(\" \", 2)\n",
    "print(words)  # ['one', 'two', 'three four five']"
   ]
  },
  {
   "cell_type": "markdown",
   "metadata": {},
   "source": [
    "### 4. 複数行の入力を受け取る"
   ]
  },
  {
   "cell_type": "code",
   "execution_count": 9,
   "metadata": {},
   "outputs": [
    {
     "name": "stdout",
     "output_type": "stream",
     "text": [
      "入力された行: ['2', 'takahashi ']\n"
     ]
    }
   ],
   "source": [
    "# 複数行の入力をリストとして取得\n",
    "n = int(input(\"行数を入力: \"))\n",
    "lines = [input() for _ in range(n)]\n",
    "print(\"入力された行:\", lines)"
   ]
  },
  {
   "cell_type": "markdown",
   "metadata": {},
   "source": [
    "### 5. `sys.stdin.read()` を使った高速入力"
   ]
  },
  {
   "cell_type": "code",
   "execution_count": null,
   "metadata": {},
   "outputs": [],
   "source": [
    "import sys\n",
    "data = sys.stdin.read().split()  # 全入力を取得し、スペースや改行で分割\n",
    "print(\"取得したデータ:\", data)"
   ]
  }
 ],
 "metadata": {
  "kernelspec": {
   "display_name": "Python 3",
   "language": "python",
   "name": "python3"
  },
  "language_info": {
   "codemirror_mode": {
    "name": "ipython",
    "version": 3
   },
   "file_extension": ".py",
   "mimetype": "text/x-python",
   "name": "python",
   "nbconvert_exporter": "python",
   "pygments_lexer": "ipython3",
   "version": "3.12.4"
  }
 },
 "nbformat": 4,
 "nbformat_minor": 4
}
