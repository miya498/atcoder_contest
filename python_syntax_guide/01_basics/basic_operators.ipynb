{
 "cells": [
  {
   "cell_type": "markdown",
   "metadata": {},
   "source": [
    "# 演算子\n",
    "\n",
    "Pythonにはさまざまな演算子があり、データの操作や比較に使用されます。"
   ]
  },
  {
   "cell_type": "markdown",
   "metadata": {},
   "source": [
    "## 算術演算子\n",
    "- `+` 加算\n",
    "- `-` 減算\n",
    "- `*` 乗算\n",
    "- `/` 除算\n",
    "- `%` 剰余"
   ]
  },
  {
   "cell_type": "code",
   "execution_count": 1,
   "metadata": {},
   "outputs": [
    {
     "name": "stdout",
     "output_type": "stream",
     "text": [
      "15 5 50 2.0 0\n"
     ]
    }
   ],
   "source": [
    "# 算術演算子の例\n",
    "a = 10\n",
    "b = 5\n",
    "\n",
    "addition = a + b\n",
    "subtraction = a - b\n",
    "multiplication = a * b\n",
    "division = a / b\n",
    "modulus = a % b\n",
    "\n",
    "print(addition, subtraction, multiplication, division, modulus)"
   ]
  },
  {
   "cell_type": "markdown",
   "metadata": {},
   "source": [
    "## 比較演算子\n",
    "- `==` 等しい\n",
    "- `!=` 等しくない\n",
    "- `>` より大きい\n",
    "- `<` より小さい\n",
    "- `>=` 以上\n",
    "- `<=` 以下"
   ]
  },
  {
   "cell_type": "code",
   "execution_count": 2,
   "metadata": {},
   "outputs": [
    {
     "name": "stdout",
     "output_type": "stream",
     "text": [
      "False True True False\n"
     ]
    }
   ],
   "source": [
    "# 比較演算子の例\n",
    "x = 10\n",
    "y = 5\n",
    "\n",
    "is_equal = (x == y)\n",
    "is_not_equal = (x != y)\n",
    "greater_than = (x > y)\n",
    "less_than = (x < y)\n",
    "\n",
    "print(is_equal, is_not_equal, greater_than, less_than)"
   ]
  },
  {
   "cell_type": "markdown",
   "metadata": {},
   "source": [
    "## 論理演算子\n",
    "- `and` 両方がTrueのときTrue\n",
    "- `or` どちらかがTrueのときTrue\n",
    "- `not` 値を反転"
   ]
  },
  {
   "cell_type": "code",
   "execution_count": 3,
   "metadata": {},
   "outputs": [
    {
     "name": "stdout",
     "output_type": "stream",
     "text": [
      "False True False\n"
     ]
    }
   ],
   "source": [
    "# 論理演算子の例\n",
    "a = True\n",
    "b = False\n",
    "\n",
    "logical_and = a and b\n",
    "logical_or = a or b\n",
    "logical_not = not a\n",
    "\n",
    "print(logical_and, logical_or, logical_not)"
   ]
  }
 ],
 "metadata": {
  "kernelspec": {
   "display_name": "Python 3",
   "language": "python",
   "name": "python3"
  },
  "language_info": {
   "codemirror_mode": {
    "name": "ipython",
    "version": 3
   },
   "file_extension": ".py",
   "mimetype": "text/x-python",
   "name": "python",
   "nbconvert_exporter": "python",
   "pygments_lexer": "ipython3",
   "version": "3.12.4"
  }
 },
 "nbformat": 4,
 "nbformat_minor": 2
}
