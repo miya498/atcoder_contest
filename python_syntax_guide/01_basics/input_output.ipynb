{
 "cells": [
  {
   "cell_type": "markdown",
   "metadata": {},
   "source": [
    "# 入出力についてのノートブック\n",
    "\n",
    "このノートブックでは、Pythonの標準入力と標準出力のさまざまな方法について説明します。"
   ]
  },
  {
   "cell_type": "markdown",
   "metadata": {},
   "source": [
    "## 基本的な標準出力\n",
    "\n",
    "`print` 関数を使用してデータを出力します。"
   ]
  },
  {
   "cell_type": "code",
   "execution_count": 1,
   "metadata": {},
   "outputs": [
    {
     "name": "stdout",
     "output_type": "stream",
     "text": [
      "Hello, World!\n",
      "Hello, Alice!\n"
     ]
    }
   ],
   "source": [
    "# 基本的な出力\n",
    "print(\"Hello, World!\")\n",
    "\n",
    "# f文字列で変数を出力\n",
    "name = \"Alice\"\n",
    "print(f\"Hello, {name}!\")"
   ]
  },
  {
   "cell_type": "markdown",
   "metadata": {},
   "source": [
    "## 基本的な標準入力\n",
    "\n",
    "`input` 関数を使ってユーザーからの入力を受け取ります。デフォルトでは文字列として入力を受け取りますが、必要に応じて型変換が可能です。"
   ]
  },
  {
   "cell_type": "code",
   "execution_count": 2,
   "metadata": {},
   "outputs": [
    {
     "name": "stdout",
     "output_type": "stream",
     "text": [
      "You entered: 10\n"
     ]
    }
   ],
   "source": [
    "# 入力の取得\n",
    "user_input = input(\"Enter your age: \")\n",
    "print(f\"You entered: {user_input}\")"
   ]
  },
  {
   "cell_type": "markdown",
   "metadata": {},
   "source": [
    "### 数値入力の変換\n",
    "\n",
    "数値の入力が必要な場合、`int` や `float` を使って型変換を行います。"
   ]
  },
  {
   "cell_type": "code",
   "execution_count": 3,
   "metadata": {},
   "outputs": [
    {
     "name": "stdout",
     "output_type": "stream",
     "text": [
      "Your age is: 100\n"
     ]
    }
   ],
   "source": [
    "# 数値入力\n",
    "age = int(input(\"Enter your age: \"))\n",
    "print(f\"Your age is: {age}\")"
   ]
  },
  {
   "cell_type": "markdown",
   "metadata": {},
   "source": [
    "### 複数の入力を一度に取得する\n",
    "\n",
    "複数の値を取得する際には、`split()` メソッドと `map()` 関数を組み合わせて使うと便利です。"
   ]
  },
  {
   "cell_type": "code",
   "execution_count": 4,
   "metadata": {},
   "outputs": [
    {
     "name": "stdout",
     "output_type": "stream",
     "text": [
      "You entered: [10, 89]\n"
     ]
    }
   ],
   "source": [
    "# 複数の数値を一度に入力\n",
    "numbers = list(map(int, input(\"Enter numbers separated by space: \").split()))\n",
    "print(\"You entered:\", numbers)"
   ]
  },
  {
   "cell_type": "markdown",
   "metadata": {},
   "source": [
    "### 2次元リスト（行列）の入力\n",
    "\n",
    "例えば、複数行にわたる数値をリストとして取得したい場合、`for` ループを用いて行列としてデータを取得できます。"
   ]
  },
  {
   "cell_type": "code",
   "execution_count": 5,
   "metadata": {},
   "outputs": [
    {
     "ename": "ValueError",
     "evalue": "invalid literal for int() with base 10: '12 2 3 4 5 '",
     "output_type": "error",
     "traceback": [
      "\u001b[1;31m---------------------------------------------------------------------------\u001b[0m",
      "\u001b[1;31mValueError\u001b[0m                                Traceback (most recent call last)",
      "Cell \u001b[1;32mIn[5], line 2\u001b[0m\n\u001b[0;32m      1\u001b[0m \u001b[38;5;66;03m# 行列の入力\u001b[39;00m\n\u001b[1;32m----> 2\u001b[0m rows \u001b[38;5;241m=\u001b[39m \u001b[38;5;28;43mint\u001b[39;49m\u001b[43m(\u001b[49m\u001b[38;5;28;43minput\u001b[39;49m\u001b[43m(\u001b[49m\u001b[38;5;124;43m\"\u001b[39;49m\u001b[38;5;124;43mEnter number of rows: \u001b[39;49m\u001b[38;5;124;43m\"\u001b[39;49m\u001b[43m)\u001b[49m\u001b[43m)\u001b[49m\n\u001b[0;32m      3\u001b[0m matrix \u001b[38;5;241m=\u001b[39m [\u001b[38;5;28mlist\u001b[39m(\u001b[38;5;28mmap\u001b[39m(\u001b[38;5;28mint\u001b[39m, \u001b[38;5;28minput\u001b[39m()\u001b[38;5;241m.\u001b[39msplit())) \u001b[38;5;28;01mfor\u001b[39;00m _ \u001b[38;5;129;01min\u001b[39;00m \u001b[38;5;28mrange\u001b[39m(rows)]\n\u001b[0;32m      4\u001b[0m \u001b[38;5;28mprint\u001b[39m(\u001b[38;5;124m\"\u001b[39m\u001b[38;5;124mMatrix:\u001b[39m\u001b[38;5;124m\"\u001b[39m, matrix)\n",
      "\u001b[1;31mValueError\u001b[0m: invalid literal for int() with base 10: '12 2 3 4 5 '"
     ]
    }
   ],
   "source": [
    "# 行列の入力\n",
    "rows = int(input(\"Enter number of rows: \"))\n",
    "matrix = [list(map(int, input().split())) for _ in range(rows)]\n",
    "print(\"Matrix:\", matrix)"
   ]
  },
  {
   "cell_type": "markdown",
   "metadata": {},
   "source": [
    "## その他の便利な入力方法\n",
    "\n",
    "### 複数の変数に一度に代入\n",
    "\n",
    "複数の変数に一度に代入する場合は、以下のように`split()` を使います。"
   ]
  },
  {
   "cell_type": "code",
   "execution_count": null,
   "metadata": {},
   "outputs": [],
   "source": [
    "# 3つの値を一度に入力し、それぞれの変数に代入\n",
    "a, b, c = map(int, input(\"Enter three numbers: \").split())\n",
    "print(f\"a: {a}, b: {b}, c: {c}\")"
   ]
  },
  {
   "cell_type": "markdown",
   "metadata": {},
   "source": [
    "### カンマ区切りの入力\n",
    "\n",
    "CSV形式のようにカンマで区切られたデータを取得する場合、`split(',')` を使います。"
   ]
  },
  {
   "cell_type": "code",
   "execution_count": null,
   "metadata": {},
   "outputs": [],
   "source": [
    "# カンマ区切りでの入力\n",
    "data = list(map(int, input(\"Enter numbers separated by comma: \").split(',')))\n",
    "print(\"Data:\", data)"
   ]
  },
  {
   "cell_type": "markdown",
   "metadata": {},
   "source": [
    "### 入力における例外処理\n",
    "\n",
    "ユーザーが期待される形式のデータを入力しなかった場合に備えて、例外処理を行うことが望ましいです。"
   ]
  },
  {
   "cell_type": "code",
   "execution_count": null,
   "metadata": {},
   "outputs": [],
   "source": [
    "# 数値入力の例外処理\n",
    "try:\n",
    "    age = int(input(\"Enter your age: \"))\n",
    "    print(f\"Your age is: {age}\")\n",
    "except ValueError:\n",
    "    print(\"Invalid input! Please enter a number.\")"
   ]
  }
 ],
 "metadata": {
  "kernelspec": {
   "display_name": "Python 3",
   "language": "python",
   "name": "python3"
  },
  "language_info": {
   "codemirror_mode": {
    "name": "ipython",
    "version": 3
   },
   "file_extension": ".py",
   "mimetype": "text/x-python",
   "name": "python",
   "nbconvert_exporter": "python",
   "pygments_lexer": "ipython3",
   "version": "3.12.4"
  }
 },
 "nbformat": 4,
 "nbformat_minor": 2
}
