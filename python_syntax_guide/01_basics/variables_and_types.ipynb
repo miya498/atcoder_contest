{
 "cells": [
  {
   "cell_type": "markdown",
   "metadata": {},
   "source": [
    "# 変数とデータ型\n",
    "\n",
    "このノートブックでは、Pythonにおける変数の定義方法と基本的なデータ型について説明します。"
   ]
  },
  {
   "cell_type": "markdown",
   "metadata": {},
   "source": [
    "## 変数の定義\n",
    "変数は、データを保存するために使用されます。Pythonでは変数に特定の型を宣言する必要がなく、直接値を割り当てることができます。"
   ]
  },
  {
   "cell_type": "code",
   "execution_count": 1,
   "metadata": {},
   "outputs": [
    {
     "name": "stdout",
     "output_type": "stream",
     "text": [
      "25 5.9 Alice\n"
     ]
    }
   ],
   "source": [
    "# 変数の定義例\n",
    "age = 25\n",
    "height = 5.9\n",
    "name = \"Alice\"\n",
    "print(age, height, name)"
   ]
  },
  {
   "cell_type": "markdown",
   "metadata": {},
   "source": [
    "## 基本的なデータ型\n",
    "Pythonで一般的に使用されるデータ型には以下のものがあります。\n",
    "\n",
    "- **整数型 (int)**\n",
    "- **浮動小数点型 (float)**\n",
    "- **文字列型 (str)**\n",
    "- **リスト型 (list)**\n",
    "- **タプル型 (tuple)**\n",
    "- **辞書型 (dict)**"
   ]
  },
  {
   "cell_type": "code",
   "execution_count": 2,
   "metadata": {},
   "outputs": [
    {
     "name": "stdout",
     "output_type": "stream",
     "text": [
      "<class 'int'> <class 'float'> <class 'str'> <class 'list'> <class 'tuple'> <class 'dict'>\n"
     ]
    }
   ],
   "source": [
    "# データ型の例\n",
    "age = 25  # 整数\n",
    "height = 5.9  # 浮動小数点\n",
    "name = \"Alice\"  # 文字列\n",
    "colors = [\"red\", \"green\", \"blue\"]  # リスト\n",
    "coordinates = (10.0, 20.0)  # タプル\n",
    "person = {\"name\": \"Bob\", \"age\": 30}  # 辞書\n",
    "\n",
    "print(type(age), type(height), type(name), type(colors), type(coordinates), type(person))"
   ]
  }
 ],
 "metadata": {
  "kernelspec": {
   "display_name": "Python 3",
   "language": "python",
   "name": "python3"
  },
  "language_info": {
   "codemirror_mode": {
    "name": "ipython",
    "version": 3
   },
   "file_extension": ".py",
   "mimetype": "text/x-python",
   "name": "python",
   "nbconvert_exporter": "python",
   "pygments_lexer": "ipython3",
   "version": "3.12.4"
  }
 },
 "nbformat": 4,
 "nbformat_minor": 2
}
