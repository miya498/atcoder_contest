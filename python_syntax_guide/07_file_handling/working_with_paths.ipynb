{
 "cells": [
  {
   "cell_type": "markdown",
   "metadata": {},
   "source": [
    "# パス操作\n",
    "\n",
    "このノートブックでは、Pythonでのファイルパスやディレクトリの操作方法について説明します。`os` モジュールと `pathlib` モジュールを使ってパスを扱うことができます。"
   ]
  },
  {
   "cell_type": "markdown",
   "metadata": {},
   "source": [
    "## `os` モジュールを使ったパス操作\n",
    "`os.path` を使ってパス操作が可能です。"
   ]
  },
  {
   "cell_type": "code",
   "execution_count": null,
   "metadata": {},
   "outputs": [],
   "source": [
    "import os\n",
    "\n",
    "# カレントディレクトリの取得\n",
    "current_dir = os.getcwd()\n",
    "print(\"Current Directory:\", current_dir)\n",
    "\n",
    "# パスの結合\n",
    "new_path = os.path.join(current_dir, \"example.txt\")\n",
    "print(\"New Path:\", new_path)\n",
    "\n",
    "# パスの存在確認\n",
    "print(\"Path exists:\", os.path.exists(new_path))"
   ]
  },
  {
   "cell_type": "markdown",
   "metadata": {},
   "source": [
    "## `pathlib` モジュールを使ったパス操作\n",
    "Python 3.4以降では、`pathlib` モジュールも使え、より直感的にパスを操作できます。"
   ]
  },
  {
   "cell_type": "code",
   "execution_count": null,
   "metadata": {},
   "outputs": [],
   "source": [
    "from pathlib import Path\n",
    "\n",
    "# カレントディレクトリの取得\n",
    "current_dir = Path.cwd()\n",
    "print(\"Current Directory:\", current_dir)\n",
    "\n",
    "# 新しいファイルパスの作成\n",
    "new_path = current_dir / \"example.txt\"\n",
    "print(\"New Path:\", new_path)\n",
    "\n",
    "# ファイルの存在確認\n",
    "print(\"File exists:\", new_path.exists())"
   ]
  },
  {
   "cell_type": "markdown",
   "metadata": {},
   "source": [
    "## ディレクトリの作成と削除\n",
    "`mkdir` と `rmdir` を使ってディレクトリの作成と削除が可能です。"
   ]
  },
  {
   "cell_type": "code",
   "execution_count": null,
   "metadata": {},
   "outputs": [],
   "source": [
    "# ディレクトリの作成\n",
    "new_dir = current_dir / \"test_dir\"\n",
    "new_dir.mkdir(exist_ok=True)\n",
    "print(\"Directory created:\", new_dir.exists())\n",
    "\n",
    "# ディレクトリの削除\n",
    "new_dir.rmdir()\n",
    "print(\"Directory exists after removal:\", new_dir.exists())"
   ]
  }
 ],
 "metadata": {
  "kernelspec": {
   "display_name": "Python 3",
   "language": "python",
   "name": "python3"
  }
 },
 "nbformat": 4,
 "nbformat_minor": 2
}
