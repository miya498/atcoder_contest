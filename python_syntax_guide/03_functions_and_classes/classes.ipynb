{
    "cells": [
     {
      "cell_type": "markdown",
      "metadata": {},
      "source": [
       "# クラス\n",
       "\n",
       "このノートブックでは、Pythonのクラスとオブジェクト指向プログラミングの基本について説明します。"
      ]
     },
     {
      "cell_type": "markdown",
      "metadata": {},
      "source": [
       "## クラスの定義\n",
       "`class` キーワードを使ってクラスを定義します。"
      ]
     },
     {
      "cell_type": "code",
      "execution_count": 1,
      "metadata": {},
      "outputs": [
       {
        "name": "stdout",
        "output_type": "stream",
        "text": [
         "Buddy\n",
         "Woof!\n"
        ]
       }
      ],
      "source": [
       "# 基本的なクラスの定義\n",
       "class Dog:\n",
       "    def __init__(self, name):\n",
       "        self.name = name\n",
       "    \n",
       "    def bark(self):\n",
       "        return \"Woof!\"\n",
       "\n",
       "my_dog = Dog(\"Buddy\")\n",
       "print(my_dog.name)\n",
       "print(my_dog.bark())"
      ]
     },
     {
      "cell_type": "markdown",
      "metadata": {},
      "source": [
       "## インスタンス変数とメソッド\n",
       "インスタンス変数とメソッドを定義して、オブジェクトの状態や動作を管理します。"
      ]
     },
     {
      "cell_type": "markdown",
      "metadata": {},
      "source": [
       "## クラスの継承\n",
       "\n",
       "継承を使うと、既存のクラス（親クラス）の機能を再利用しつつ、新しいクラス（子クラス）に追加の機能を持たせることができます。"
      ]
     },
     {
      "cell_type": "code",
      "execution_count": 2,
      "metadata": {},
      "outputs": [
       {
        "name": "stdout",
        "output_type": "stream",
        "text": [
         "Buddy\n",
         "Woof!\n",
         "I'm a friendly dog!\n"
        ]
       }
      ],
      "source": [
       "# クラスの継承の例\n",
       "class Dog:\n",
       "    def __init__(self, name):\n",
       "        self.name = name\n",
       "    \n",
       "    def bark(self):\n",
       "        return \"Woof!\"\n",
       "\n",
       "# Dogクラスを継承して新しいクラスを作成\n",
       "class FriendlyDog(Dog):\n",
       "    def greet(self):\n",
       "        return \"I'm a friendly dog!\"\n",
       "\n",
       "friendly_dog = FriendlyDog(\"Buddy\")\n",
       "print(friendly_dog.name)\n",
       "print(friendly_dog.bark())\n",
       "print(friendly_dog.greet())"
      ]
     },
     {
      "cell_type": "markdown",
      "metadata": {},
      "source": [
       "## `super()` の使用\n",
       "\n",
       "`super()` 関数を使うことで、親クラスのメソッドを子クラスから呼び出すことができます。これにより、親クラスの初期化処理やメソッドを子クラスで活用できます。"
      ]
     },
     {
      "cell_type": "code",
      "execution_count": 3,
      "metadata": {},
      "outputs": [
       {
        "name": "stdout",
        "output_type": "stream",
        "text": [
         "Max is a Golden Retriever\n",
         "Woof!\n"
        ]
       }
      ],
      "source": [
       "# super()を使用した継承の例\n",
       "class Dog:\n",
       "    def __init__(self, name):\n",
       "        self.name = name\n",
       "\n",
       "    def bark(self):\n",
       "        return \"Woof!\"\n",
       "\n",
       "class BreedDog(Dog):\n",
       "    def __init__(self, name, breed):\n",
       "        super().__init__(name)  # 親クラスの__init__を呼び出し\n",
       "        self.breed = breed\n",
       "\n",
       "    def display_info(self):\n",
       "        return f\"{self.name} is a {self.breed}\"\n",
       "\n",
       "breed_dog = BreedDog(\"Max\", \"Golden Retriever\")\n",
       "print(breed_dog.display_info())\n",
       "print(breed_dog.bark())"
      ]
     }
    ],
    "metadata": {
     "kernelspec": {
      "display_name": "Python 3",
      "language": "python",
      "name": "python3"
     },
     "language_info": {
      "codemirror_mode": {
       "name": "ipython",
       "version": 3
      },
      "file_extension": ".py",
      "mimetype": "text/x-python",
      "name": "python",
      "nbconvert_exporter": "python",
      "pygments_lexer": "ipython3",
      "version": "3.12.4"
     }
    },
    "nbformat": 4,
    "nbformat_minor": 2
   }   