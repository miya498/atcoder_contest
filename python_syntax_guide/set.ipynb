{
    "cells": [
     {
      "cell_type": "markdown",
      "metadata": {},
      "source": [
       "# Python の `set`（集合）"
      ]
     },
     {
      "cell_type": "markdown",
      "metadata": {},
      "source": [
       "## 1. `set`（集合）とは？"
      ]
     },
     {
      "cell_type": "markdown",
      "metadata": {},
      "source": [
       "**概要**:\n",
       "- **重複を許さない** データ構造。\n",
       "- **要素の順序は保証されない**（辞書型と異なり `set` には順序がない）。\n",
       "- 集合演算（和・積・差・対称差）を簡単に扱える。\n",
       "- **計算量:** $O(1)$（要素の追加・削除・検索が高速）\n",
       "\n",
       "**使用例:**\n",
       "- **リストの重複を削除**\n",
       "- **集合演算（和・積・差）**\n",
       "- **効率的な要素検索**"
      ]
     },
     {
      "cell_type": "markdown",
      "metadata": {},
      "source": [
       "## 2. `set` の基本操作"
      ]
     },
     {
      "cell_type": "code",
      "execution_count": null,
      "metadata": {},
      "outputs": [],
      "source": [
       "# set の作成\n",
       "s = {1, 2, 3, 4, 5}\n",
       "print(s)  # {1, 2, 3, 4, 5}\n",
       "\n",
       "# 空のセットを作る（{} ではなく set() を使う）\n",
       "empty_set = set()\n",
       "print(empty_set)  # set()"
      ]
     },
     {
      "cell_type": "markdown",
      "metadata": {},
      "source": [
       "### 3. `set` の要素操作"
      ]
     },
     {
      "cell_type": "code",
      "execution_count": null,
      "metadata": {},
      "outputs": [],
      "source": [
       "# 要素の追加\n",
       "s.add(6)\n",
       "print(s)  # {1, 2, 3, 4, 5, 6}\n",
       "\n",
       "# 要素の削除\n",
       "s.remove(3)  # 3 を削除（存在しない場合エラー）\n",
       "print(s)  # {1, 2, 4, 5, 6}\n",
       "\n",
       "# discard() は存在しなくてもエラーにならない\n",
       "s.discard(10)  # 存在しない要素を削除してもエラーなし\n",
       "\n",
       "# 全要素削除\n",
       "s.clear()\n",
       "print(s)  # set()"
      ]
     },
     {
      "cell_type": "markdown",
      "metadata": {},
      "source": [
       "## 4. 集合演算（和・積・差・対称差）"
      ]
     },
     {
      "cell_type": "code",
      "execution_count": null,
      "metadata": {},
      "outputs": [],
      "source": [
       "A = {1, 2, 3, 4}\n",
       "B = {3, 4, 5, 6}\n",
       "\n",
       "# 和集合（A ∪ B）\n",
       "print(A | B)  # {1, 2, 3, 4, 5, 6}\n",
       "\n",
       "# 積集合（A ∩ B）\n",
       "print(A & B)  # {3, 4}\n",
       "\n",
       "# 差集合（A - B）\n",
       "print(A - B)  # {1, 2}\n",
       "\n",
       "# 対称差集合（A △ B）\n",
       "print(A ^ B)  # {1, 2, 5, 6}"
      ]
     },
     {
      "cell_type": "markdown",
      "metadata": {},
      "source": [
       "## 5. `set` を使ったリストの重複削除"
      ]
     },
     {
      "cell_type": "code",
      "execution_count": null,
      "metadata": {},
      "outputs": [],
      "source": [
       "# リストの重複を削除\n",
       "arr = [1, 2, 2, 3, 4, 4, 5]\n",
       "unique_list = list(set(arr))\n",
       "print(unique_list)  # [1, 2, 3, 4, 5]（順序は保証されない）"
      ]
     },
     {
      "cell_type": "markdown",
      "metadata": {},
      "source": [
       "## 6. `set` を使った効率的な検索"
      ]
     },
     {
      "cell_type": "code",
      "execution_count": null,
      "metadata": {},
      "outputs": [],
      "source": [
       "# リスト vs セットの検索速度比較\n",
       "import time\n",
       "\n",
       "N = 10**6\n",
       "lst = list(range(N))\n",
       "s = set(lst)\n",
       "\n",
       "# リスト検索\n",
       "start = time.time()\n",
       "print(999999 in lst)  # True\n",
       "print(\"リスト検索時間:\", time.time() - start)\n",
       "\n",
       "# セット検索\n",
       "start = time.time()\n",
       "print(999999 in s)  # True\n",
       "print(\"セット検索時間:\", time.time() - start)"
      ]
     },
     {
      "cell_type": "markdown",
      "metadata": {},
      "source": [
       "## 7. `frozenset`（変更不可な集合）"
      ]
     },
     {
      "cell_type": "markdown",
      "metadata": {},
      "source": [
       "- `frozenset` は **変更できない集合**（immutable set）。\n",
       "- `set` と異なり、要素を変更・追加・削除できない。\n",
       "- `frozenset` は **辞書のキー** に使える。"
      ]
     },
     {
      "cell_type": "code",
      "execution_count": null,
      "metadata": {},
      "outputs": [],
      "source": [
       "fs = frozenset({1, 2, 3})\n",
       "print(fs)  # frozenset({1, 2, 3})\n",
       "\n",
       "# fs.add(4)  # エラー（frozenset は変更不可）\n",
       "\n",
       "# frozenset を辞書のキーとして使う\n",
       "d = {frozenset([1, 2, 3]): \"value\"}\n",
       "print(d[frozenset([1, 2, 3])])  # value"
      ]
     },
     {
      "cell_type": "markdown",
      "metadata": {},
      "source": [
       "## まとめ"
      ]
     },
     {
      "cell_type": "markdown",
      "metadata": {},
      "source": [
       "| 機能 | メソッド | 例 |\n",
       "|------|------|------|\n",
       "| 要素追加 | `add(x)` | `s.add(3)` |\n",
       "| 要素削除 | `remove(x)` | `s.remove(2)`（存在しないとエラー） |\n",
       "| 要素削除（安全） | `discard(x)` | `s.discard(10)`（エラーなし） |\n",
       "| 和集合 | `|` | `A | B` |\n",
       "| 積集合 | `&` | `A & B` |\n",
       "| 差集合 | `-` | `A - B` |\n",
       "| 対称差集合 | `^` | `A ^ B` |\n",
       "\n",
       "`set` を使うことで、**重複削除・高速検索・集合演算** が簡単にできます！ 🚀"
      ]
     }
    ],
    "metadata": {
     "kernelspec": {
      "display_name": "Python 3",
      "language": "python",
      "name": "python3"
     }
    },
    "nbformat": 4,
    "nbformat_minor": 4
   }
   