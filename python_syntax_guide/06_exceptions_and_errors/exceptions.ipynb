{
    "cells": [
     {
      "cell_type": "markdown",
      "metadata": {},
      "source": [
       "# 例外処理\n",
       "\n",
       "このノートブックでは、Pythonの例外処理について説明します。例外処理を使うことで、エラーが発生してもプログラムを継続して実行できます。"
      ]
     },
     {
      "cell_type": "markdown",
      "metadata": {},
      "source": [
       "## try-except\n",
       "`try` ブロック内でエラーが発生した場合、`except` ブロックで例外をキャッチして処理します。"
      ]
     },
     {
      "cell_type": "code",
      "execution_count": 1,
      "metadata": {},
      "outputs": [
       {
        "name": "stdout",
        "output_type": "stream",
        "text": [
         "Cannot divide by zero!\n"
        ]
       }
      ],
      "source": [
       "# try-except の例\n",
       "try:\n",
       "    result = 10 / 0\n",
       "except ZeroDivisionError:\n",
       "    print(\"Cannot divide by zero!\")"
      ]
     },
     {
      "cell_type": "markdown",
      "metadata": {},
      "source": [
       "## 有効な入力が得られるまで繰り返し求める例外処理\n",
       "\n",
       "ユーザーからの入力が有効であることを確認し、無効な入力があった場合は再入力を求める方法です。"
      ]
     },
     {
      "cell_type": "code",
      "execution_count": 2,
      "metadata": {},
      "outputs": [
       {
        "name": "stdout",
        "output_type": "stream",
        "text": [
         "Please enter an integer: a\n",
         "Invalid input! Please enter a valid integer.\n",
         "Please enter an integer: 5\n",
         "You entered: 5\n"
        ]
       }
      ],
      "source": [
       "# ユーザーが整数を入力するまで繰り返し求める例\n",
       "while True:\n",
       "    try:\n",
       "        user_input = int(input(\"Please enter an integer: \"))\n",
       "        print(\"You entered:\", user_input)\n",
       "        break  # 有効な入力が得られたらループを抜ける\n",
       "    except ValueError:\n",
       "        print(\"Invalid input! Please enter a valid integer.\")"
      ]
     }
    ],
    "metadata": {
     "kernelspec": {
      "display_name": "Python 3",
      "language": "python",
      "name": "python3"
     },
     "language_info": {
      "codemirror_mode": {
       "name": "ipython",
       "version": 3
      },
      "file_extension": ".py",
      "mimetype": "text/x-python",
      "name": "python",
      "nbconvert_exporter": "python",
      "pygments_lexer": "ipython3",
      "version": "3.12.4"
     }
    },
    "nbformat": 4,
    "nbformat_minor": 2
   }   