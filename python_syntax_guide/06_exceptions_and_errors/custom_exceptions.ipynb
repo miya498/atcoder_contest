{
 "cells": [
  {
   "cell_type": "markdown",
   "metadata": {},
   "source": [
    "# カスタム例外\n",
    "\n",
    "このノートブックでは、独自の例外を作成する方法について説明します。カスタム例外を使うことで、特定の状況に対して独自のエラーメッセージを定義できます。"
   ]
  },
  {
   "cell_type": "markdown",
   "metadata": {},
   "source": [
    "## カスタム例外の定義\n",
    "Pythonでは、`Exception` クラスを継承して独自の例外を定義できます。"
   ]
  },
  {
   "cell_type": "code",
   "execution_count": null,
   "metadata": {},
   "outputs": [],
   "source": [
    "# カスタム例外の定義\n",
    "class CustomError(Exception):\n",
    "    pass\n",
    "\n",
    "# カスタム例外の使用\n",
    "try:\n",
    "    raise CustomError(\"This is a custom error!\")\n",
    "except CustomError as e:\n",
    "    print(e)"
   ]
  },
  {
   "cell_type": "markdown",
   "metadata": {},
   "source": [
    "## カスタム例外に追加の情報を含める\n",
    "独自の`__init__` メソッドを定義することで、追加の情報をエラーメッセージに含めることができます。"
   ]
  },
  {
   "cell_type": "code",
   "execution_count": null,
   "metadata": {},
   "outputs": [],
   "source": [
    "# カスタム例外に追加情報を含める\n",
    "class DetailedError(Exception):\n",
    "    def __init__(self, message, code):\n",
    "        self.message = message\n",
    "        self.code = code\n",
    "        super().__init__(f\"{message} (Error code: {code})\")\n",
    "\n",
    "try:\n",
    "    raise DetailedError(\"Something went wrong\", 500)\n",
    "except DetailedError as e:\n",
    "    print(e)"
   ]
  }
 ],
 "metadata": {
  "kernelspec": {
   "display_name": "Python 3",
   "language": "python",
   "name": "python3"
  }
 },
 "nbformat": 4,
 "nbformat_minor": 2
}
