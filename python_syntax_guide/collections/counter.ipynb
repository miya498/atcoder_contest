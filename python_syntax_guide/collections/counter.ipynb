{
    "cells": [
     {
      "cell_type": "markdown",
      "metadata": {},
      "source": [
       "# `collections.Counter`（頻度カウント）"
      ]
     },
     {
      "cell_type": "markdown",
      "metadata": {},
      "source": [
       "## 1. `Counter` とは？"
      ]
     },
     {
      "cell_type": "markdown",
      "metadata": {},
      "source": [
       "**概要:**\n",
       "- `collections.Counter` は **リストや文字列の要素の出現回数をカウント** する辞書型データ構造。\n",
       "- **計算量:** 挿入・検索は $O(1)$（辞書と同じ）。\n",
       "\n",
       "**競技プログラミングでの活用例:**\n",
       "- **文字列内の各文字の出現回数を数える**\n",
       "- **リスト内の各要素の頻度をカウント**\n",
       "- **トップ K 頻出要素の抽出**"
      ]
     },
     {
      "cell_type": "markdown",
      "metadata": {},
      "source": [
       "## 2. `Counter` の基本的な使い方"
      ]
     },
     {
      "cell_type": "code",
      "execution_count": null,
      "metadata": {},
      "outputs": [],
      "source": [
       "from collections import Counter\n",
       "\n",
       "# 文字列のカウント\n",
       "s = \"aabbccabc\"\n",
       "counter = Counter(s)\n",
       "print(counter)  # {'a': 3, 'b': 3, 'c': 3}"
      ]
     },
     {
      "cell_type": "markdown",
      "metadata": {},
      "source": [
       "## 3. `Counter` の便利なメソッド"
      ]
     },
     {
      "cell_type": "markdown",
      "metadata": {},
      "source": [
       "### `.items()` を使ったキー・値の取得"
      ]
     },
     {
      "cell_type": "code",
      "execution_count": null,
      "metadata": {},
      "outputs": [],
      "source": [
       "# items() を使って要素とその出現回数を取得\n",
       "for key, value in counter.items():\n",
       "    print(f\"{key}: {value}\")"
      ]
     },
     {
      "cell_type": "markdown",
      "metadata": {},
      "source": [
       "### `.keys()` と `.values()`"
      ]
     },
     {
      "cell_type": "code",
      "execution_count": null,
      "metadata": {},
      "outputs": [],
      "source": [
       "# キーのリストを取得\n",
       "print(counter.keys())  # dict_keys(['a', 'b', 'c'])\n",
       "\n",
       "# 値のリストを取得\n",
       "print(counter.values())  # dict_values([3, 3, 3])"
      ]
     },
     {
      "cell_type": "markdown",
      "metadata": {},
      "source": [
       "### `.most_common()` を使った頻度の高い要素の取得"
      ]
     },
     {
      "cell_type": "code",
      "execution_count": null,
      "metadata": {},
      "outputs": [],
      "source": [
       "# 最も出現回数の多い要素を取得\n",
       "print(counter.most_common(2))  # [('a', 3), ('b', 3)]"
      ]
     },
     {
      "cell_type": "markdown",
      "metadata": {},
      "source": [
       "## 4. `Counter` を使った競技プログラミングの応用"
      ]
     },
     {
      "cell_type": "markdown",
      "metadata": {},
      "source": [
       "### 📌 問題: 文字列内の最頻出文字を求める"
      ]
     },
     {
      "cell_type": "code",
      "execution_count": null,
      "metadata": {},
      "outputs": [],
      "source": [
       "def most_frequent_char(s):\n",
       "    counter = Counter(s)\n",
       "    return counter.most_common(1)[0][0]  # 最頻出文字を返す\n",
       "\n",
       "print(most_frequent_char(\"aabbccc\"))  # 'c'"
      ]
     },
     {
      "cell_type": "markdown",
      "metadata": {},
      "source": [
       "### 📌 問題: リスト内の要素の頻度をカウントし、出現回数の多い順にソート"
      ]
     },
     {
      "cell_type": "code",
      "execution_count": null,
      "metadata": {},
      "outputs": [],
      "source": [
       "arr = [1, 2, 2, 3, 3, 3, 4, 4, 4, 4]\n",
       "counter = Counter(arr)\n",
       "\n",
       "# 出現回数の多い順にソート\n",
       "sorted_items = sorted(counter.items(), key=lambda x: -x[1])\n",
       "print(sorted_items)  # [(4, 4), (3, 3), (2, 2), (1, 1)]"
      ]
     },
     {
      "cell_type": "markdown",
      "metadata": {},
      "source": [
       "## 5. まとめ"
      ]
     },
     {
      "cell_type": "markdown",
      "metadata": {},
      "source": [
       "| メソッド | 説明 | 例 |\n",
       "|------|------|------|\n",
       "| `Counter(iterable)` | 要素の頻度をカウント | `Counter(\"aabbc\") → {'a': 2, 'b': 2, 'c': 1}` |\n",
       "| `.items()` | キーと値のペアを取得 | `counter.items()` |\n",
       "| `.keys()` | キーのみ取得 | `counter.keys()` |\n",
       "| `.values()` | 値のみ取得 | `counter.values()` |\n",
       "| `.most_common(n)` | 上位 `n` 個の要素を取得 | `counter.most_common(2)` |\n",
       "\n",
       "`Counter` を使うことで **出現回数の集計が簡単にできる！** 🚀"
      ]
     }
    ],
    "metadata": {
     "kernelspec": {
      "display_name": "Python 3",
      "language": "python",
      "name": "python3"
     }
    },
    "nbformat": 4,
    "nbformat_minor": 4
   }   