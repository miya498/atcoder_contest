{
    "cells": [
     {
      "cell_type": "markdown",
      "metadata": {},
      "source": [
       "## `Counter` の使い方\n",
       "\n",
       "`Counter` は Python の `collections` モジュールに含まれるデータ構造で、\n",
       "**リストや文字列の要素の出現回数をカウント** するのに便利な辞書型オブジェクトです。"
      ]
     },
     {
      "cell_type": "markdown",
      "metadata": {},
      "source": [
       "### 1. `Counter` の基本"
      ]
     },
     {
      "cell_type": "code",
      "execution_count": null,
      "metadata": {},
      "outputs": [],
      "source": [
       "from collections import Counter\n",
       "\n",
       "# リストの要素をカウント\n",
       "words = [\"apple\", \"banana\", \"apple\", \"cherry\", \"banana\", \"apple\"]\n",
       "count = Counter(words)\n",
       "print(count)  # Counter({'apple': 3, 'banana': 2, 'cherry': 1})"
      ]
     },
     {
      "cell_type": "markdown",
      "metadata": {},
      "source": [
       "### 2. 文字列のカウント"
      ]
     },
     {
      "cell_type": "code",
      "execution_count": null,
      "metadata": {},
      "outputs": [],
      "source": [
       "# 文字列の各文字の出現回数をカウント\n",
       "s = \"mississippi\"\n",
       "count = Counter(s)\n",
       "print(count)  # Counter({'i': 4, 's': 4, 'p': 2, 'm': 1})"
      ]
     },
     {
      "cell_type": "markdown",
      "metadata": {},
      "source": [
       "### 3. `Counter` の主要メソッド"
      ]
     },
     {
      "cell_type": "code",
      "execution_count": null,
      "metadata": {},
      "outputs": [],
      "source": [
       "c = Counter([\"a\", \"b\", \"a\", \"c\", \"b\", \"a\", \"d\", \"b\", \"b\"])\n",
       "\n",
       "# 最も多い要素を取得\n",
       "print(c.most_common(2))  # [('b', 4), ('a', 3)]\n",
       "\n",
       "# 要素の追加\n",
       "c.update([\"a\", \"e\", \"e\"])\n",
       "print(c)  # Counter({'b': 4, 'a': 4, 'e': 2, 'c': 1, 'd': 1})\n",
       "\n",
       "# 要素の削除\n",
       "c.subtract([\"b\", \"b\", \"a\"])\n",
       "print(c)  # Counter({'b': 2, 'a': 3, 'e': 2, 'c': 1, 'd': 1})"
      ]
     },
     {
      "cell_type": "markdown",
      "metadata": {},
      "source": [
       "### 4. `Counter` の演算"
      ]
     },
     {
      "cell_type": "code",
      "execution_count": null,
      "metadata": {},
      "outputs": [],
      "source": [
       "c1 = Counter(\"apple\")\n",
       "c2 = Counter(\"banana\")\n",
       "\n",
       "# 和集合（要素の合計）\n",
       "print(c1 + c2)  # Counter({'a': 4, 'n': 2, 'p': 2, 'b': 1, 'l': 1, 'e': 1})\n",
       "\n",
       "# 差集合（片方からもう片方の要素を引く）\n",
       "print(c1 - c2)  # Counter({'p': 2, 'l': 1, 'e': 1})\n",
       "\n",
       "# 共通部分（最小値をとる）\n",
       "print(c1 & c2)  # Counter({'a': 1})\n",
       "\n",
       "# 和集合（最大値をとる）\n",
       "print(c1 | c2)  # Counter({'a': 3, 'p': 2, 'n': 2, 'b': 1, 'l': 1, 'e': 1})"
      ]
     },
     {
      "cell_type": "markdown",
      "metadata": {},
      "source": [
       "### 5. `Counter` のカスタム初期値"
      ]
     },
     {
      "cell_type": "code",
      "execution_count": null,
      "metadata": {},
      "outputs": [],
      "source": [
       "# 初期値を手動で設定\n",
       "c = Counter(a=3, b=2, c=1)\n",
       "print(c)  # Counter({'a': 3, 'b': 2, 'c': 1})"
      ]
     },
     {
      "cell_type": "markdown",
      "metadata": {},
      "source": [
       "## `Counter` の活用シナリオ\n",
       "\n",
       "| 用途 | `Counter` の活用 | 例 |\n",
       "|------|------|------|\n",
       "| 頻度カウント | `Counter(list)` | `Counter([\"a\", \"b\", \"a\"])` |\n",
       "| 文字列解析 | `Counter(str)` | `Counter(\"mississippi\")` |\n",
       "| 最頻値取得 | `most_common(n)` | `c.most_common(3)` |\n",
       "| 要素の加算 | `update(list)` | `c.update([\"x\", \"y\"])` |\n",
       "| 要素の減算 | `subtract(list)` | `c.subtract([\"a\", \"b\"])` |\n",
       "| 和集合 | `c1 + c2` | `Counter({'a': 4, 'n': 2})` |\n",
       "| 差集合 | `c1 - c2` | `Counter({'p': 2, 'l': 1})` |\n",
       "| 共通部分 | `c1 & c2` | `Counter({'a': 1})` |\n",
       "| 最大集合 | `c1 | c2` | `Counter({'a': 3, 'p': 2})` |\n",
       "\n",
       "`Counter` を使うと、データの集計や解析が **シンプルで効率的** になります！ 🚀"
      ]
     }
    ],
    "metadata": {
     "kernelspec": {
      "display_name": "Python 3",
      "language": "python",
      "name": "python3"
     },
     "language_info": {
      "codemirror_mode": {
       "name": "ipython",
       "version": 3
      },
      "file_extension": ".py",
      "mimetype": "text/x-python",
      "name": "python",
      "nbconvert_exporter": "python",
      "pygments_lexer": "ipython3",
      "version": "3.8.10"
     }
    },
    "nbformat": 4,
    "nbformat_minor": 4
   }
   