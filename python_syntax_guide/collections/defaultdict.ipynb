{
    "cells": [
     {
      "cell_type": "markdown",
      "metadata": {},
      "source": [
       "## `defaultdict` の使い方\n",
       "\n",
       "`defaultdict` は Python の `collections` モジュールに含まれるデータ構造で、キーが存在しない場合に **デフォルト値を自動設定** できる辞書です。\n",
       "通常の `dict` では存在しないキーにアクセスすると `KeyError` になりますが、`defaultdict` を使うとデフォルト値が設定されるため、エラーを防ぐことができます。"
      ]
     },
     {
      "cell_type": "markdown",
      "metadata": {},
      "source": [
       "### 1. `defaultdict` の基本"
      ]
     },
     {
      "cell_type": "code",
      "execution_count": null,
      "metadata": {},
      "outputs": [],
      "source": [
       "from collections import defaultdict\n",
       "\n",
       "# int をデフォルト値とする defaultdict\n",
       "d = defaultdict(int)\n",
       "print(d[\"a\"])  # 存在しないキーにアクセス → 0（デフォルト値）\n",
       "\n",
       "# 手動で値を加算\n",
       "d[\"a\"] += 1\n",
       "print(d)  # defaultdict(<class 'int'>, {'a': 1})"
      ]
     },
     {
      "cell_type": "markdown",
      "metadata": {},
      "source": [
       "### 2. `list` をデフォルト値に設定（リストを自動生成）"
      ]
     },
     {
      "cell_type": "code",
      "execution_count": null,
      "metadata": {},
      "outputs": [],
      "source": [
       "d = defaultdict(list)\n",
       "d[\"fruit\"].append(\"apple\")\n",
       "d[\"fruit\"].append(\"banana\")\n",
       "print(d)  # defaultdict(<class 'list'>, {'fruit': ['apple', 'banana']})"
      ]
     },
     {
      "cell_type": "markdown",
      "metadata": {},
      "source": [
       "### 3. `set` をデフォルト値に設定（重複を除去するセット）"
      ]
     },
     {
      "cell_type": "code",
      "execution_count": null,
      "metadata": {},
      "outputs": [],
      "source": [
       "d = defaultdict(set)\n",
       "d[\"fruit\"].add(\"apple\")\n",
       "d[\"fruit\"].add(\"banana\")\n",
       "d[\"fruit\"].add(\"apple\")  # 重複は無視される\n",
       "print(d)  # defaultdict(<class 'set'>, {'fruit': {'apple', 'banana'}})"
      ]
     },
     {
      "cell_type": "markdown",
      "metadata": {},
      "source": [
       "### 4. `lambda` を使ってカスタムデフォルト値"
      ]
     },
     {
      "cell_type": "code",
      "execution_count": null,
      "metadata": {},
      "outputs": [],
      "source": [
       "d = defaultdict(lambda: \"default_value\")\n",
       "print(d[\"unknown\"])  # \"default_value\""
      ]
     },
     {
      "cell_type": "markdown",
      "metadata": {},
      "source": [
       "### 5. `defaultdict` をカウンターとして使う（`int` をデフォルト値に）"
      ]
     },
     {
      "cell_type": "code",
      "execution_count": null,
      "metadata": {},
      "outputs": [],
      "source": [
       "words = [\"apple\", \"banana\", \"apple\", \"cherry\", \"banana\", \"apple\"]\n",
       "count = defaultdict(int)\n",
       "\n",
       "for word in words:\n",
       "    count[word] += 1  # 存在しないキーは 0 から始まる\n",
       "\n",
       "print(count)  # defaultdict(<class 'int'>, {'apple': 3, 'banana': 2, 'cherry': 1})"
      ]
     },
     {
      "cell_type": "markdown",
      "metadata": {},
      "source": [
       "### 6. `defaultdict` をグループ化に使う（`list` をデフォルト値に）"
      ]
     },
     {
      "cell_type": "code",
      "execution_count": null,
      "metadata": {},
      "outputs": [],
      "source": [
       "pairs = [(\"fruit\", \"apple\"), (\"fruit\", \"banana\"), (\"color\", \"red\"), (\"color\", \"blue\")]\n",
       "d = defaultdict(list)\n",
       "\n",
       "for key, value in pairs:\n",
       "    d[key].append(value)\n",
       "\n",
       "print(d)  # defaultdict(<class 'list'>, {'fruit': ['apple', 'banana'], 'color': ['red', 'blue']})"
      ]
     },
     {
      "cell_type": "markdown",
      "metadata": {},
      "source": [
       "## `defaultdict` の活用シナリオ\n",
       "\n",
       "| 用途 | `defaultdict` の設定 | 例 |\n",
       "|------|------|------|\n",
       "| カウンター | `defaultdict(int)` | `d[word] += 1` |\n",
       "| リスト格納 | `defaultdict(list)` | `d[key].append(value)` |\n",
       "| 集合格納 | `defaultdict(set)` | `d[key].add(value)` |\n",
       "| カスタム初期値 | `defaultdict(lambda: \"default\")` | `d[key]` |\n",
       "\n",
       "`defaultdict` を使うことで、`KeyError` を気にせず **シンプルかつ効率的に辞書操作が可能** になります！ 🚀"
      ]
     }
    ],
    "metadata": {
     "kernelspec": {
      "display_name": "Python 3",
      "language": "python",
      "name": "python3"
     },
     "language_info": {
      "codemirror_mode": {
       "name": "ipython",
       "version": 3
      },
      "file_extension": ".py",
      "mimetype": "text/x-python",
      "name": "python",
      "nbconvert_exporter": "python",
      "pygments_lexer": "ipython3",
      "version": "3.8.10"
     }
    },
    "nbformat": 4,
    "nbformat_minor": 4
   }
   