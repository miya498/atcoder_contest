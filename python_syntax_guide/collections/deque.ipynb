{
    "cells": [
     {
      "cell_type": "markdown",
      "metadata": {},
      "source": [
       "## `deque` の使い方\n",
       "\n",
       "`deque`（デック）は Python の `collections` モジュールに含まれるデータ構造で、\n",
       "**リストよりも両端の要素の追加・削除が高速なキュー（双方向キュー）** です。"
      ]
     },
     {
      "cell_type": "markdown",
      "metadata": {},
      "source": [
       "### 1. `deque` の基本"
      ]
     },
     {
      "cell_type": "code",
      "execution_count": null,
      "metadata": {},
      "outputs": [],
      "source": [
       "from collections import deque\n",
       "\n",
       "# deque の作成\n",
       "dq = deque([1, 2, 3])\n",
       "print(dq)  # deque([1, 2, 3])"
      ]
     },
     {
      "cell_type": "markdown",
      "metadata": {},
      "source": [
       "### 2. `deque` の要素の追加・削除"
      ]
     },
     {
      "cell_type": "code",
      "execution_count": null,
      "metadata": {},
      "outputs": [],
      "source": [
       "# 末尾に追加\n",
       "dq.append(4)\n",
       "print(dq)  # deque([1, 2, 3, 4])\n",
       "\n",
       "# 先頭に追加\n",
       "dq.appendleft(0)\n",
       "print(dq)  # deque([0, 1, 2, 3, 4])\n",
       "\n",
       "# 末尾を削除\n",
       "dq.pop()\n",
       "print(dq)  # deque([0, 1, 2, 3])\n",
       "\n",
       "# 先頭を削除\n",
       "dq.popleft()\n",
       "print(dq)  # deque([1, 2, 3])"
      ]
     },
     {
      "cell_type": "markdown",
      "metadata": {},
      "source": [
       "### 3. `deque` の回転"
      ]
     },
     {
      "cell_type": "code",
      "execution_count": null,
      "metadata": {},
      "outputs": [],
      "source": [
       "# 右に 2 回回転\n",
       "dq.rotate(2)\n",
       "print(dq)  # deque([2, 3, 1])\n",
       "\n",
       "# 左に 1 回回転\n",
       "dq.rotate(-1)\n",
       "print(dq)  # deque([3, 1, 2])"
      ]
     },
     {
      "cell_type": "markdown",
      "metadata": {},
      "source": [
       "### 4. `deque` の最大長を設定（固定長キュー）"
      ]
     },
     {
      "cell_type": "code",
      "execution_count": null,
      "metadata": {},
      "outputs": [],
      "source": [
       "# 最大長 3 の deque\n",
       "dq = deque([1, 2, 3], maxlen=3)\n",
       "print(dq)  # deque([1, 2, 3], maxlen=3)\n",
       "\n",
       "# 新しい要素を追加すると、古い要素が自動で削除される\n",
       "dq.append(4)\n",
       "print(dq)  # deque([2, 3, 4], maxlen=3)"
      ]
     },
     {
      "cell_type": "markdown",
      "metadata": {},
      "source": [
       "## `deque` の活用シナリオ\n",
       "\n",
       "| 用途 | `deque` の活用 | 例 |\n",
       "|------|------|------|\n",
       "| 両端キュー | `deque()` | `dq.append(x), dq.popleft()` |\n",
       "| スタック（LIFO） | `dq.append(x), dq.pop()` | `dq.pop()` |\n",
       "| キュー（FIFO） | `dq.append(x), dq.popleft()` | `dq.popleft()` |\n",
       "| 固定長キュー | `deque(maxlen=N)` | `dq.append(x)` |\n",
       "| 回転操作 | `dq.rotate(k)` | `dq.rotate(-1)` |\n",
       "\n",
       "`deque` を使うと、リストの **先頭や末尾の処理が高速になり、競技プログラミングでも活躍** します！ 🚀"
      ]
     }
    ],
    "metadata": {
     "kernelspec": {
      "display_name": "Python 3",
      "language": "python",
      "name": "python3"
     },
     "language_info": {
      "codemirror_mode": {
       "name": "ipython",
       "version": 3
      },
      "file_extension": ".py",
      "mimetype": "text/x-python",
      "name": "python",
      "nbconvert_exporter": "python",
      "pygments_lexer": "ipython3",
      "version": "3.8.10"
     }
    },
    "nbformat": 4,
    "nbformat_minor": 4
   }
   