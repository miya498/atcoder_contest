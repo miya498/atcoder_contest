{
    "cells": [
     {
      "cell_type": "markdown",
      "metadata": {},
      "source": [
       "## `OrderedDict` の使い方\n",
       "\n",
       "`OrderedDict` は Python の `collections` モジュールに含まれるデータ構造で、\n",
       "**キーの順序を保持する辞書** です。\n",
       "\n",
       "Python 3.7 以降では `dict` も順序を保持しますが、`OrderedDict` には追加の機能があります。"
      ]
     },
     {
      "cell_type": "markdown",
      "metadata": {},
      "source": [
       "### 1. `OrderedDict` の基本"
      ]
     },
     {
      "cell_type": "code",
      "execution_count": null,
      "metadata": {},
      "outputs": [],
      "source": [
       "from collections import OrderedDict\n",
       "\n",
       "# 通常の辞書（Python 3.7以降は順序保持）\n",
       "d = {\"b\": 2, \"a\": 1, \"c\": 3}\n",
       "print(d)  # {'b': 2, 'a': 1, 'c': 3}\n",
       "\n",
       "# OrderedDict の場合（順序を厳密に管理）\n",
       "od = OrderedDict()\n",
       "od[\"b\"] = 2\n",
       "od[\"a\"] = 1\n",
       "od[\"c\"] = 3\n",
       "\n",
       "print(od)  # OrderedDict([('b', 2), ('a', 1), ('c', 3)])"
      ]
     },
     {
      "cell_type": "markdown",
      "metadata": {},
      "source": [
       "### 2. `OrderedDict` の順序変更"
      ]
     },
     {
      "cell_type": "code",
      "execution_count": null,
      "metadata": {},
      "outputs": [],
      "source": [
       "# 先頭に移動（move_to_end）\n",
       "od.move_to_end(\"b\")\n",
       "print(od)  # OrderedDict([('a', 1), ('c', 3), ('b', 2)])\n",
       "\n",
       "# 先頭に移動（last=False）\n",
       "od.move_to_end(\"b\", last=False)\n",
       "print(od)  # OrderedDict([('b', 2), ('a', 1), ('c', 3)])"
      ]
     },
     {
      "cell_type": "markdown",
      "metadata": {},
      "source": [
       "### 3. `OrderedDict` の比較"
      ]
     },
     {
      "cell_type": "code",
      "execution_count": null,
      "metadata": {},
      "outputs": [],
      "source": [
       "od1 = OrderedDict([(\"a\", 1), (\"b\", 2), (\"c\", 3)])\n",
       "od2 = OrderedDict([(\"b\", 2), (\"a\", 1), (\"c\", 3)])\n",
       "\n",
       "print(od1 == od2)  # False（順序が異なると異なる辞書とみなされる）"
      ]
     },
     {
      "cell_type": "markdown",
      "metadata": {},
      "source": [
       "### 4. 通常の辞書 (`dict`) との違い"
      ]
     },
     {
      "cell_type": "code",
      "execution_count": null,
      "metadata": {},
      "outputs": [],
      "source": [
       "d1 = {\"a\": 1, \"b\": 2, \"c\": 3}\n",
       "d2 = {\"b\": 2, \"a\": 1, \"c\": 3}\n",
       "\n",
       "print(d1 == d2)  # True（Python 3.7 以降では順序を考慮しない）\n",
       "print(OrderedDict(d1) == OrderedDict(d2))  # False（順序を考慮する）"
      ]
     },
     {
      "cell_type": "markdown",
      "metadata": {},
      "source": [
       "## `OrderedDict` の活用シナリオ\n",
       "\n",
       "| 用途 | `OrderedDict` の活用 | 例 |\n",
       "|------|------|------|\n",
       "| 順序付き辞書 | `OrderedDict()` | `OrderedDict([('a', 1), ('b', 2)])` |\n",
       "| 先頭に移動 | `move_to_end(key, last=False)` | `od.move_to_end('a', last=False)` |\n",
       "| 順序保持 | `OrderedDict(d)` | `OrderedDict({'b': 2, 'a': 1})` |\n",
       "| 順序比較 | `OrderedDict(d1) == OrderedDict(d2)` | `False` |\n",
       "\n",
       "`OrderedDict` を使うことで、**順序を厳密に管理でき、データの整理が容易になります！** 🚀"
      ]
     }
    ],
    "metadata": {
     "kernelspec": {
      "display_name": "Python 3",
      "language": "python",
      "name": "python3"
     },
     "language_info": {
      "codemirror_mode": {
       "name": "ipython",
       "version": 3
      },
      "file_extension": ".py",
      "mimetype": "text/x-python",
      "name": "python",
      "nbconvert_exporter": "python",
      "pygments_lexer": "ipython3",
      "version": "3.8.10"
     }
    },
    "nbformat": 4,
    "nbformat_minor": 4
   }
   