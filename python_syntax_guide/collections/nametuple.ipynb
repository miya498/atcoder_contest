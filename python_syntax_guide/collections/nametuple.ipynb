{
    "cells": [
     {
      "cell_type": "markdown",
      "metadata": {},
      "source": [
       "## `namedtuple` の使い方\n",
       "\n",
       "`namedtuple` は Python の `collections` モジュールに含まれるデータ構造で、\n",
       "**通常のタプルに名前を付けてアクセスしやすくしたオブジェクト** です。\n",
       "タプルの軽量性を維持しつつ、辞書のような可読性を持たせることができます。"
      ]
     },
     {
      "cell_type": "markdown",
      "metadata": {},
      "source": [
       "### 1. `namedtuple` の基本"
      ]
     },
     {
      "cell_type": "code",
      "execution_count": null,
      "metadata": {},
      "outputs": [],
      "source": [
       "from collections import namedtuple\n",
       "\n",
       "# namedtuple の定義\n",
       "Person = namedtuple(\"Person\", [\"name\", \"age\", \"city\"])\n",
       "\n",
       "# インスタンス作成\n",
       "p1 = Person(name=\"Alice\", age=25, city=\"Tokyo\")\n",
       "p2 = Person(\"Bob\", 30, \"Osaka\")\n",
       "\n",
       "print(p1)  # Person(name='Alice', age=25, city='Tokyo')\n",
       "print(p2.name, p2.age, p2.city)  # Bob 30 Osaka"
      ]
     },
     {
      "cell_type": "markdown",
      "metadata": {},
      "source": [
       "### 2. フィールド名でアクセス"
      ]
     },
     {
      "cell_type": "code",
      "execution_count": null,
      "metadata": {},
      "outputs": [],
      "source": [
       "# フィールド名でアクセス\n",
       "print(p1.name)  # Alice\n",
       "print(p1.age)   # 25\n",
       "print(p1.city)  # Tokyo"
      ]
     },
     {
      "cell_type": "markdown",
      "metadata": {},
      "source": [
       "### 3. インデックスでアクセス（通常のタプルと同じ）"
      ]
     },
     {
      "cell_type": "code",
      "execution_count": null,
      "metadata": {},
      "outputs": [],
      "source": [
       "print(p1[0])  # Alice\n",
       "print(p1[1])  # 25\n",
       "print(p1[2])  # Tokyo"
      ]
     },
     {
      "cell_type": "markdown",
      "metadata": {},
      "source": [
       "### 4. `_asdict()` を使って辞書に変換"
      ]
     },
     {
      "cell_type": "code",
      "execution_count": null,
      "metadata": {},
      "outputs": [],
      "source": [
       "# namedtuple を辞書に変換\n",
       "print(p1._asdict())  # {'name': 'Alice', 'age': 25, 'city': 'Tokyo'}"
      ]
     },
     {
      "cell_type": "markdown",
      "metadata": {},
      "source": [
       "### 5. `_replace()` を使って新しいオブジェクトを作成"
      ]
     },
     {
      "cell_type": "code",
      "execution_count": null,
      "metadata": {},
      "outputs": [],
      "source": [
       "# フィールドを変更した新しいオブジェクトを作成\n",
       "p3 = p1._replace(age=26)\n",
       "print(p3)  # Person(name='Alice', age=26, city='Tokyo')"
      ]
     },
     {
      "cell_type": "markdown",
      "metadata": {},
      "source": [
       "### 6. `_fields` を使ってフィールド名を確認"
      ]
     },
     {
      "cell_type": "code",
      "execution_count": null,
      "metadata": {},
      "outputs": [],
      "source": [
       "print(Person._fields)  # ('name', 'age', 'city')"
      ]
     },
     {
      "cell_type": "markdown",
      "metadata": {},
      "source": [
       "## `namedtuple` の活用シナリオ\n",
       "\n",
       "| 用途 | `namedtuple` の活用 | 例 |\n",
       "|------|------|------|\n",
       "| 軽量なデータ構造 | `Person = namedtuple(\"Person\", [\"name\", \"age\"])` | `Person(\"Alice\", 25)` |\n",
       "| 辞書の代替 | `._asdict()` | `p1._asdict()` |\n",
       "| 値の変更 | `._replace()` | `p1._replace(age=26)` |\n",
       "| フィールド確認 | `._fields` | `Person._fields` |\n",
       "\n",
       "`namedtuple` を使うことで、可読性の高いデータ管理が可能になります！ 🚀"
      ]
     }
    ],
    "metadata": {
     "kernelspec": {
      "display_name": "Python 3",
      "language": "python",
      "name": "python3"
     },
     "language_info": {
      "codemirror_mode": {
       "name": "ipython",
       "version": 3
      },
      "file_extension": ".py",
      "mimetype": "text/x-python",
      "name": "python",
      "nbconvert_exporter": "python",
      "pygments_lexer": "ipython3",
      "version": "3.8.10"
     }
    },
    "nbformat": 4,
    "nbformat_minor": 4
   }
   