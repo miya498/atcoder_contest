{
 "cells": [
  {
   "cell_type": "markdown",
   "metadata": {},
   "source": [
    "# 動的計画法（DP, Dynamic Programming）"
   ]
  },
  {
   "cell_type": "markdown",
   "metadata": {},
   "source": [
    "## 1. 動的計画法（DP）とは？"
   ]
  },
  {
   "cell_type": "markdown",
   "metadata": {},
   "source": [
    "**概要**:\n",
    "- 問題を **部分問題に分割** し、解を再利用することで効率化する手法。\n",
    "- **メモ化再帰**（トップダウン）と **配列を用いた漸化式**（ボトムアップ）がある。\n",
    "- **計算量:** $O(N)$ 〜 $O(N^2)$ 程度。\n",
    "\n",
    "**使用例:**\n",
    "- **フィボナッチ数列**\n",
    "- **部分和問題（Subset Sum）**\n",
    "- **ナップサック問題（Knapsack）**\n",
    "- **最長共通部分列（LCS）**"
   ]
  },
  {
   "cell_type": "markdown",
   "metadata": {},
   "source": [
    "## 2. フィボナッチ数列（DP の基本）"
   ]
  },
  {
   "cell_type": "code",
   "execution_count": null,
   "metadata": {},
   "outputs": [],
   "source": [
    "# ボトムアップ型（メモリ効率的）\n",
    "def fibonacci_dp(n):\n",
    "    if n == 0:\n",
    "        return 0\n",
    "    if n == 1:\n",
    "        return 1\n",
    "    dp = [0] * (n + 1)\n",
    "    dp[1] = 1\n",
    "    for i in range(2, n + 1):\n",
    "        dp[i] = dp[i - 1] + dp[i - 2]\n",
    "    return dp[n]\n",
    "\n",
    "print(fibonacci_dp(10))  # 55"
   ]
  },
  {
   "cell_type": "markdown",
   "metadata": {},
   "source": [
    "## 3. 部分和問題（Subset Sum）"
   ]
  },
  {
   "cell_type": "markdown",
   "metadata": {},
   "source": [
    "**📌 問題: 与えられた整数のリストの中で、ある数 `S` を作れるか判定せよ**\n",
    "- **入力:** 正の整数リスト `arr` と目標値 `S`。\n",
    "- **出力:** `S` を作れるなら `YES`、作れないなら `NO`。\n",
    "- **制約:**  $1 \\leq N \\leq 1000$, $1 \\leq S \\leq 10^5$"
   ]
  },
  {
   "cell_type": "code",
   "execution_count": null,
   "metadata": {},
   "outputs": [],
   "source": [
    "# DPで部分和問題を解く\n",
    "def subset_sum_dp(arr, S):\n",
    "    N = len(arr)\n",
    "    dp = [[False] * (S + 1) for _ in range(N + 1)]\n",
    "    dp[0][0] = True\n",
    "\n",
    "    for i in range(N):\n",
    "        for j in range(S + 1):\n",
    "            if dp[i][j]:\n",
    "                dp[i + 1][j] = True\n",
    "                if j + arr[i] <= S:\n",
    "                    dp[i + 1][j + arr[i]] = True\n",
    "\n",
    "    return \"YES\" if dp[N][S] else \"NO\"\n",
    "\n",
    "arr = [3, 34, 4, 12, 5, 2]\n",
    "S = 9\n",
    "print(subset_sum_dp(arr, S))  # YES"
   ]
  },
  {
   "cell_type": "markdown",
   "metadata": {},
   "source": [
    "## 4. ナップサック問題（0-1 Knapsack）"
   ]
  },
  {
   "cell_type": "markdown",
   "metadata": {},
   "source": [
    "**📌 問題: 重さ `w[i]`、価値 `v[i]` の N 個の品物がある。**\n",
    "- **容量 `W` のナップサックに入る最大価値を求めよ。**\n",
    "- **制約:** $1 \\leq N \\leq 100$, $1 \\leq W \\leq 10^5$"
   ]
  },
  {
   "cell_type": "code",
   "execution_count": null,
   "metadata": {},
   "outputs": [],
   "source": [
    "# ナップサック問題をDPで解く\n",
    "def knapsack_dp(N, W, weight, value):\n",
    "    dp = [[0] * (W + 1) for _ in range(N + 1)]\n",
    "\n",
    "    for i in range(N):\n",
    "        for j in range(W + 1):\n",
    "            if j >= weight[i]:\n",
    "                dp[i + 1][j] = max(dp[i][j], dp[i][j - weight[i]] + value[i])\n",
    "            else:\n",
    "                dp[i + 1][j] = dp[i][j]\n",
    "\n",
    "    return dp[N][W]\n",
    "\n",
    "N = 4\n",
    "W = 7\n",
    "weight = [3, 4, 2, 3]\n",
    "value = [30, 50, 40, 60]\n",
    "print(knapsack_dp(N, W, weight, value))  # 90"
   ]
  },
  {
   "cell_type": "markdown",
   "metadata": {},
   "source": [
    "## 5. 最長共通部分列（LCS, Longest Common Subsequence）"
   ]
  },
  {
   "cell_type": "code",
   "execution_count": null,
   "metadata": {},
   "outputs": [],
   "source": [
    "# 最長共通部分列（LCS）をDPで解く\n",
    "def lcs_dp(s1, s2):\n",
    "    n, m = len(s1), len(s2)\n",
    "    dp = [[0] * (m + 1) for _ in range(n + 1)]\n",
    "\n",
    "    for i in range(1, n + 1):\n",
    "        for j in range(1, m + 1):\n",
    "            if s1[i - 1] == s2[j - 1]:\n",
    "                dp[i][j] = dp[i - 1][j - 1] + 1\n",
    "            else:\n",
    "                dp[i][j] = max(dp[i - 1][j], dp[i][j - 1])\n",
    "\n",
    "    return dp[n][m]\n",
    "\n",
    "print(lcs_dp(\"AGGTAB\", \"GXTXAYB\"))  # 4"
   ]
  },
  {
   "cell_type": "markdown",
   "metadata": {},
   "source": [
    "## まとめ"
   ]
  },
  {
   "cell_type": "markdown",
   "metadata": {},
   "source": [
    "| アルゴリズム | 計算量 | 用途 |\n",
    "|------|------|------|\n",
    "| フィボナッチ数列 | $O(N)$ | 再帰のメモ化 |\n",
    "| 部分和問題 | $O(N S)$ | サブセットの和 |\n",
    "| ナップサック | $O(N W)$ | 限られた容量の最適化 |\n",
    "| LCS | $O(N M)$ | 文字列の共通部分 |\n"
   ]
  }
 ],
 "metadata": {
  "kernelspec": {
   "display_name": "Python 3",
   "language": "python",
   "name": "python3"
  }
 },
 "nbformat": 4,
 "nbformat_minor": 4
}
