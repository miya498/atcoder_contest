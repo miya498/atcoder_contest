{
    "cells": [
     {
      "cell_type": "markdown",
      "metadata": {},
      "source": [
       "# アルゴリズムまとめ：線形探索・二分探索・ソート・累積和・いもす法"
      ]
     },
     {
      "cell_type": "markdown",
      "metadata": {},
      "source": [
       "## 1. 線形探索（リスト内の要素を順番に探す）"
      ]
     },
     {
      "cell_type": "markdown",
      "metadata": {},
      "source": [
       "**概要**:\n",
       "- 配列やリストの要素を **順番に調べて** 目的の値を探す方法。\n",
       "- **計算量:** $O(N)$（リストの長さに比例して時間がかかる）\n",
       "- 小さなデータセットでは簡単で便利だが、大きなデータセットでは遅くなる。\n",
       "\n",
       "**使用例:**\n",
       "- **リストに特定の値があるかチェック**\n",
       "- **最大・最小値を見つける**"
      ]
     },
     {
      "cell_type": "code",
      "execution_count": null,
      "metadata": {},
      "outputs": [],
      "source": [
       "# 線形探索（リスト内の要素を探す）\n",
       "def linear_search(arr, target):\n",
       "    for i in range(len(arr)):\n",
       "        if arr[i] == target:\n",
       "            return i  # 見つかった位置を返す\n",
       "    return -1  # 見つからなかった場合\n",
       "\n",
       "arr = [3, 1, 4, 1, 5, 9]\n",
       "target = 5\n",
       "print(linear_search(arr, target))  # 4"
      ]
     },
     {
      "cell_type": "markdown",
      "metadata": {},
      "source": [
       "## 2. 二分探索（高速な探索）"
      ]
     },
     {
      "cell_type": "markdown",
      "metadata": {},
      "source": [
       "**概要**:\n",
       "- **ソート済み** のリストに対して **分割して探す** 方法。\n",
       "- **計算量:** $O(\\log N)$（高速）\n",
       "- **「ある値が存在するか？」、「最小の `x` を探す」などに適用**"
      ]
     },
     {
      "cell_type": "code",
      "execution_count": null,
      "metadata": {},
      "outputs": [],
      "source": [
       "# 二分探索（自作）\n",
       "def binary_search(arr, target):\n",
       "    left, right = 0, len(arr) - 1\n",
       "    while left <= right:\n",
       "        mid = (left + right) // 2\n",
       "        if arr[mid] == target:\n",
       "            return mid\n",
       "        elif arr[mid] < target:\n",
       "            left = mid + 1\n",
       "        else:\n",
       "            right = mid - 1\n",
       "    return -1  # 見つからない場合\n",
       "\n",
       "arr = [1, 3, 5, 7, 9]\n",
       "target = 5\n",
       "print(binary_search(arr, target))  # 2"
      ]
     },
     {
      "cell_type": "markdown",
      "metadata": {},
      "source": [
       "## 3. ソートアルゴリズム（バブルソート・マージソート・クイックソート）"
      ]
     },
     {
      "cell_type": "code",
      "execution_count": null,
      "metadata": {},
      "outputs": [],
      "source": [
       "# バブルソート（O(N^2)）\n",
       "def bubble_sort(arr):\n",
       "    n = len(arr)\n",
       "    for i in range(n):\n",
       "        for j in range(n - i - 1):\n",
       "            if arr[j] > arr[j + 1]:\n",
       "                arr[j], arr[j + 1] = arr[j + 1], arr[j]\n",
       "    return arr\n",
       "\n",
       "arr = [5, 2, 9, 1, 5, 6]\n",
       "print(bubble_sort(arr))"
      ]
     },
     {
      "cell_type": "code",
      "execution_count": null,
      "metadata": {},
      "outputs": [],
      "source": [
       "# マージソート（O(N log N)）\n",
       "def merge_sort(arr):\n",
       "    if len(arr) <= 1:\n",
       "        return arr\n",
       "    mid = len(arr) // 2\n",
       "    left = merge_sort(arr[:mid])\n",
       "    right = merge_sort(arr[mid:])\n",
       "    return merge(left, right)\n",
       "\n",
       "def merge(left, right):\n",
       "    result = []\n",
       "    i = j = 0\n",
       "    while i < len(left) and j < len(right):\n",
       "        if left[i] < right[j]:\n",
       "            result.append(left[i])\n",
       "            i += 1\n",
       "        else:\n",
       "            result.append(right[j])\n",
       "            j += 1\n",
       "    result.extend(left[i:])\n",
       "    result.extend(right[j:])\n",
       "    return result\n",
       "\n",
       "arr = [5, 2, 9, 1, 5, 6]\n",
       "print(merge_sort(arr))"
      ]
     },
     {
      "cell_type": "markdown",
      "metadata": {},
      "source": [
       "## 4. 累積和（Prefix Sum）"
      ]
     },
     {
      "cell_type": "code",
      "execution_count": null,
      "metadata": {},
      "outputs": [],
      "source": [
       "# 累積和の計算\n",
       "def prefix_sum(arr):\n",
       "    n = len(arr)\n",
       "    prefix = [0] * (n + 1)\n",
       "    for i in range(n):\n",
       "        prefix[i + 1] = prefix[i] + arr[i]\n",
       "    return prefix\n",
       "\n",
       "arr = [1, 2, 3, 4, 5]\n",
       "print(prefix_sum(arr))  # [0, 1, 3, 6, 10, 15]"
      ]
     },
     {
      "cell_type": "markdown",
      "metadata": {},
      "source": [
       "## 5. いもす法（区間加算を効率化するテクニック）"
      ]
     },
     {
      "cell_type": "code",
      "execution_count": null,
      "metadata": {},
      "outputs": [],
      "source": [
       "# いもす法の実装\n",
       "def imos(n, queries):\n",
       "    arr = [0] * (n + 1)\n",
       "    for l, r in queries:\n",
       "        arr[l] += 1\n",
       "        arr[r] -= 1\n",
       "    for i in range(1, n):\n",
       "        arr[i] += arr[i - 1]\n",
       "    return arr[:-1]\n",
       "\n",
       "queries = [(1, 3), (2, 4), (0, 2)]\n",
       "print(imos(5, queries))"
      ]
     }
    ],
    "metadata": {
     "kernelspec": {
      "display_name": "Python 3",
      "language": "python",
      "name": "python3"
     }
    },
    "nbformat": 4,
    "nbformat_minor": 4
   }
   