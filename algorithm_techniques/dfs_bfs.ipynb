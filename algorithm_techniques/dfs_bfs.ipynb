{
    "cells": [
     {
      "cell_type": "markdown",
      "metadata": {},
      "source": [
       "# DFS（深さ優先探索） & BFS（幅優先探索）"
      ]
     },
     {
      "cell_type": "markdown",
      "metadata": {},
      "source": [
       "## 1. 深さ優先探索（DFS）"
      ]
     },
     {
      "cell_type": "markdown",
      "metadata": {},
      "source": [
       "**概要**:\n",
       "- グラフや木を **深く探索する** 手法。\n",
       "- スタック（または再帰）を利用する。\n",
       "- **計算量:** $O(V + E)$（V: 頂点数, E: 辺数）\n",
       "\n",
       "**使用例:**\n",
       "- **迷路探索（再帰的に探索）**\n",
       "- **連結成分のカウント**\n",
       "- **トップソート（DAGの探索）**"
      ]
     },
     {
      "cell_type": "markdown",
      "metadata": {},
      "source": [
       "### 📌 問題: 迷路の通れるか判定\n",
       "- **概要:** 迷路のスタート地点からゴール地点に到達できるか判定する。\n",
       "- **入力:** `S` をスタート、`G` をゴールとする `N x M` の迷路。\n",
       "- **制約:** `#` は壁、`.` は通れる道。\n",
       "- **出力:** 到達できるなら `YES`、できないなら `NO`。"
      ]
     },
     {
      "cell_type": "code",
      "execution_count": null,
      "metadata": {},
      "outputs": [],
      "source": [
       "# DFSによる迷路探索\n",
       "def dfs_maze(maze, x, y, visited):\n",
       "    if maze[x][y] == 'G':\n",
       "        return True\n",
       "    visited[x][y] = True\n",
       "    \n",
       "    directions = [(0,1), (0,-1), (1,0), (-1,0)]\n",
       "    for dx, dy in directions:\n",
       "        nx, ny = x + dx, y + dy\n",
       "        if 0 <= nx < len(maze) and 0 <= ny < len(maze[0]) and not visited[nx][ny] and maze[nx][ny] != '#':\n",
       "            if dfs_maze(maze, nx, ny, visited):\n",
       "                return True\n",
       "    return False\n",
       "\n",
       "maze = [\n",
       "    ['S', '.', '#', 'G'],\n",
       "    ['#', '.', '#', '.'],\n",
       "    ['.', '.', '.', '#'],\n",
       "    ['#', '#', '.', '.']\n",
       "]\n",
       "N, M = len(maze), len(maze[0])\n",
       "visited = [[False]*M for _ in range(N)]\n",
       "start_x, start_y = 0, 0\n",
       "\n",
       "print(\"YES\" if dfs_maze(maze, start_x, start_y, visited) else \"NO\")"
      ]
     },
     {
      "cell_type": "markdown",
      "metadata": {},
      "source": [
       "## 2. 幅優先探索（BFS）"
      ]
     },
     {
      "cell_type": "markdown",
      "metadata": {},
      "source": [
       "**概要**:\n",
       "- グラフや木を **広く探索する** 手法。\n",
       "- キュー（`queue.Queue` or `collections.deque`）を利用。\n",
       "- **計算量:** $O(V + E)$（V: 頂点数, E: 辺数）\n",
       "\n",
       "**使用例:**\n",
       "- **最短経路探索（無向グラフ）**\n",
       "- **迷路の最短距離計算**\n",
       "- **木のレベル順探索**"
      ]
     },
     {
      "cell_type": "markdown",
      "metadata": {},
      "source": [
       "### 📌 問題: 迷路の最短距離を求める\n",
       "- **概要:** 迷路のスタート地点からゴール地点までの最短距離を求める。\n",
       "- **入力:** `S` をスタート、`G` をゴールとする `N x M` の迷路。\n",
       "- **制約:** `#` は壁、`.` は通れる道。\n",
       "- **出力:** スタートからゴールまでの **最短距離** を出力。"
      ]
     },
     {
      "cell_type": "code",
      "execution_count": null,
      "metadata": {},
      "outputs": [],
      "source": [
       "from collections import deque\n",
       "\n",
       "def bfs_maze(maze, start_x, start_y):\n",
       "    N, M = len(maze), len(maze[0])\n",
       "    directions = [(0,1), (0,-1), (1,0), (-1,0)]\n",
       "    queue = deque([(start_x, start_y, 0)])  # (x座標, y座標, 距離)\n",
       "    visited = [[False]*M for _ in range(N)]\n",
       "    visited[start_x][start_y] = True\n",
       "\n",
       "    while queue:\n",
       "        x, y, dist = queue.popleft()\n",
       "        if maze[x][y] == 'G':\n",
       "            return dist  # ゴールに到達したら距離を返す\n",
       "\n",
       "        for dx, dy in directions:\n",
       "            nx, ny = x + dx, y + dy\n",
       "            if 0 <= nx < N and 0 <= ny < M and not visited[nx][ny] and maze[nx][ny] != '#':\n",
       "                visited[nx][ny] = True\n",
       "                queue.append((nx, ny, dist + 1))\n",
       "    return -1  # 到達できない場合\n",
       "\n",
       "maze = [\n",
       "    ['S', '.', '#', 'G'],\n",
       "    ['#', '.', '#', '.'],\n",
       "    ['.', '.', '.', '#'],\n",
       "    ['#', '#', '.', '.']\n",
       "]\n",
       "start_x, start_y = 0, 0\n",
       "print(bfs_maze(maze, start_x, start_y))"
      ]
     },
     {
      "cell_type": "markdown",
      "metadata": {},
      "source": [
       "## まとめ"
      ]
     },
     {
      "cell_type": "markdown",
      "metadata": {},
      "source": [
       "| アルゴリズム | 計算量 | 用途 |\n",
       "|------|------|------|\n",
       "| DFS | $O(V+E)$ | 連結成分探索、迷路探索 |\n",
       "| BFS | $O(V+E)$ | 最短経路、幅優先探索 |\n",
       "\n",
       "DFS は **探索の深さ** を活かすのに適しており、BFS は **最短経路探索** に向いている。"
      ]
     }
    ],
    "metadata": {
     "kernelspec": {
      "display_name": "Python 3",
      "language": "python",
      "name": "python3"
     }
    },
    "nbformat": 4,
    "nbformat_minor": 4
   }
   