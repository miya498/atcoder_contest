{
 "cells": [
  {
   "cell_type": "markdown",
   "id": "b037d048",
   "metadata": {},
   "source": [
    "# Pythonのソートテクニック\n",
    "    \"このノートブックでは、Pythonの`sort`や`sorted`を使ったさまざまなソート方法について説明します。\""
   ]
  },
  {
   "cell_type": "code",
   "execution_count": 1,
   "id": "21c0d1f4",
   "metadata": {},
   "outputs": [
    {
     "name": "stdout",
     "output_type": "stream",
     "text": [
      "Ascending: [1, 2, 5, 5, 6, 9]\n",
      "Descending: [9, 6, 5, 5, 2, 1]\n"
     ]
    }
   ],
   "source": [
    "# 1. リストの昇順・降順ソート\n",
    "data = [5, 2, 9, 1, 5, 6]\n",
    "\n",
    "# 昇順にソート\n",
    "data.sort()\n",
    "print(\"Ascending:\", data)\n",
    "\n",
    "# 降順にソート\n",
    "data.sort(reverse=True)\n",
    "print(\"Descending:\", data)"
   ]
  },
  {
   "cell_type": "code",
   "execution_count": 2,
   "id": "e0d0d360",
   "metadata": {},
   "outputs": [
    {
     "name": "stdout",
     "output_type": "stream",
     "text": [
      "[(1, 2), (1, 1), (2, 3), (2, 2), (3, 1)]\n"
     ]
    }
   ],
   "source": [
    "# 2. タプルのリストを複数基準でソート\n",
    "data = [(1, 2), (3, 1), (2, 3), (1, 1), (2, 2)]\n",
    "\n",
    "# 第一要素で昇順、第二要素で降順\n",
    "data.sort(key=lambda x: (x[0], -x[1]))\n",
    "print(data)"
   ]
  },
  {
   "cell_type": "code",
   "execution_count": 3,
   "id": "ed6ea806",
   "metadata": {},
   "outputs": [
    {
     "name": "stdout",
     "output_type": "stream",
     "text": [
      "['kiwi', 'apple', 'banana', 'cherry']\n"
     ]
    }
   ],
   "source": [
    "# 3.  文字列を長さ順にソート\n",
    "words = ['apple', 'banana', 'kiwi', 'cherry']\n",
    "\n",
    "words.sort(key=len)\n",
    "print(words)"
   ]
  },
  {
   "cell_type": "code",
   "execution_count": 4,
   "id": "4ade39aa",
   "metadata": {},
   "outputs": [
    {
     "name": "stdout",
     "output_type": "stream",
     "text": [
      "[{'name': 'Bob', 'age': 20}, {'name': 'Alice', 'age': 25}, {'name': 'Charlie', 'age': 30}]\n"
     ]
    }
   ],
   "source": [
    "# 4. 辞書のリストを特定のキーでソート\n",
    "data = [\n",
    "    {'name': 'Alice', 'age': 25},\n",
    "    {'name': 'Bob', 'age': 20},\n",
    "    {'name': 'Charlie', 'age': 30}\n",
    "]\n",
    "\n",
    "# ageキーで昇順にソート\n",
    "data.sort(key=lambda x: x['age'])\n",
    "print(data)"
   ]
  },
  {
   "cell_type": "code",
   "execution_count": 5,
   "id": "277772b0",
   "metadata": {},
   "outputs": [
    {
     "name": "stdout",
     "output_type": "stream",
     "text": [
      "['Apple', 'apple', 'banana', 'cherry']\n"
     ]
    }
   ],
   "source": [
    "# 5. 大文字・小文字を無視して文字列をソート\n",
    "words = ['banana', 'Apple', 'cherry', 'apple']\n",
    "\n",
    "# 大文字・小文字を無視してソート\n",
    "words.sort(key=str.lower)\n",
    "print(words)"
   ]
  },
  {
   "cell_type": "code",
   "execution_count": 6,
   "id": "f1c43ba2",
   "metadata": {},
   "outputs": [
    {
     "name": "stdout",
     "output_type": "stream",
     "text": [
      "[1, 2, -3, 3, -4, -5]\n"
     ]
    }
   ],
   "source": [
    "# 6. 数値リストを絶対値でソート\n",
    "data = [-4, 1, -3, 2, -5, 3]\n",
    "\n",
    "# 絶対値で昇順にソート\n",
    "data.sort(key=abs)\n",
    "print(data)"
   ]
  },
  {
   "cell_type": "code",
   "execution_count": 7,
   "id": "86746bfe",
   "metadata": {},
   "outputs": [
    {
     "name": "stdout",
     "output_type": "stream",
     "text": [
      "[('banana', 3), ('apple', 2), ('cherry', 1)]\n"
     ]
    }
   ],
   "source": [
    "# 7. 逆順ソートとキーの組み合わせ\n",
    "data = [('apple', 2), ('banana', 3), ('cherry', 1)]\n",
    "\n",
    "# 第二要素で昇順、全体を逆順に\n",
    "sorted_data = sorted(data, key=lambda x: x[1], reverse=True)\n",
    "print(sorted_data)"
   ]
  },
  {
   "cell_type": "code",
   "execution_count": 8,
   "id": "49b456e1",
   "metadata": {},
   "outputs": [
    {
     "name": "stdout",
     "output_type": "stream",
     "text": [
      "[(3, 1), (3, 4), (2, 5), (1, 6), (1, 7)]\n"
     ]
    }
   ],
   "source": [
    "# 8. 複数条件でのソート（例: 第一要素を降順、第二要素を昇順）\n",
    "data = [(3, 4), (3, 1), (1, 7), (2, 5), (1, 6)]\n",
    "\n",
    "data.sort(key=lambda x: (-x[0], x[1]))\n",
    "print(data)"
   ]
  },
  {
   "cell_type": "code",
   "execution_count": 9,
   "id": "ca6c54d4",
   "metadata": {},
   "outputs": [
    {
     "name": "stdout",
     "output_type": "stream",
     "text": [
      "[datetime.datetime(2021, 8, 23, 0, 0), datetime.datetime(2022, 12, 1, 0, 0), datetime.datetime(2023, 5, 17, 0, 0)]\n"
     ]
    }
   ],
   "source": [
    "# 9. 日付を含むリストをソート\n",
    "from datetime import datetime\n",
    "\n",
    "dates = [\n",
    "    datetime(2023, 5, 17),\n",
    "    datetime(2021, 8, 23),\n",
    "    datetime(2022, 12, 1)\n",
    "]\n",
    "\n",
    "# Sort by date\n",
    "dates.sort()\n",
    "print(dates)"
   ]
  },
  {
   "cell_type": "code",
   "execution_count": 10,
   "id": "3c31f4cf",
   "metadata": {},
   "outputs": [
    {
     "name": "stdout",
     "output_type": "stream",
     "text": [
      "[6, 3, 4, 1, 5, 2]\n"
     ]
    }
   ],
   "source": [
    "# 10. カスタム関数を使用したソート\n",
    "def custom_key(x):\n",
    "    return x % 3, -x\n",
    "\n",
    "data = [1, 2, 3, 4, 5, 6]\n",
    "\n",
    "# Sort using the custom key\n",
    "data.sort(key=custom_key)\n",
    "print(data)"
   ]
  }
 ],
 "metadata": {
  "kernelspec": {
   "display_name": "Python 3",
   "language": "python",
   "name": "python3"
  },
  "language_info": {
   "codemirror_mode": {
    "name": "ipython",
    "version": 3
   },
   "file_extension": ".py",
   "mimetype": "text/x-python",
   "name": "python",
   "nbconvert_exporter": "python",
   "pygments_lexer": "ipython3",
   "version": "3.12.4"
  }
 },
 "nbformat": 4,
 "nbformat_minor": 5
}
