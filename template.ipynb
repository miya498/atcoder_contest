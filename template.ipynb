{
 "cells": [
  {
   "cell_type": "markdown",
   "metadata": {},
   "source": [
    "# Python構文まとめ"
   ]
  },
  {
   "cell_type": "markdown",
   "metadata": {},
   "source": [
    "## 入力"
   ]
  },
  {
   "cell_type": "markdown",
   "metadata": {},
   "source": [
    "### 文字列,整数を入力"
   ]
  },
  {
   "cell_type": "code",
   "execution_count": null,
   "metadata": {},
   "outputs": [],
   "source": [
    "string = input()\n",
    "n = int(input())"
   ]
  },
  {
   "cell_type": "markdown",
   "metadata": {},
   "source": [
    "### 複数のスペース区切りの値を入力"
   ]
  },
  {
   "cell_type": "code",
   "execution_count": null,
   "metadata": {},
   "outputs": [],
   "source": [
    "a, b = map(int, input().split())"
   ]
  },
  {
   "cell_type": "markdown",
   "metadata": {},
   "source": [
    "### 整数リストを入力"
   ]
  },
  {
   "cell_type": "code",
   "execution_count": null,
   "metadata": {},
   "outputs": [],
   "source": [
    "lst = list(map(int, input().split()))"
   ]
  },
  {
   "cell_type": "markdown",
   "metadata": {},
   "source": [
    "### 2次元配列 (行列) の入力"
   ]
  },
  {
   "cell_type": "code",
   "execution_count": null,
   "metadata": {},
   "outputs": [],
   "source": [
    "H, W = map(int, input().split())\n",
    "matrix = [list(map(int, input().split())) for _ in range(H)]"
   ]
  },
  {
   "cell_type": "markdown",
   "metadata": {},
   "source": [
    "## 内包表記 "
   ]
  },
  {
   "cell_type": "code",
   "execution_count": 1,
   "metadata": {},
   "outputs": [],
   "source": [
    "a= [[0]*3 for i in range(5)] \n",
    "#条件付き(奇数のみ)\n",
    "odd=[i for i in range(100) if i%2==1]"
   ]
  },
  {
   "cell_type": "markdown",
   "metadata": {},
   "source": [
    "## bit全探索"
   ]
  },
  {
   "cell_type": "code",
   "execution_count": null,
   "metadata": {},
   "outputs": [],
   "source": [
    "S = input(\"文字列を入力してください: \")\n",
    "N = len(S)\n",
    "ans = 0\n",
    "\n",
    "# ビット全探索の範囲を 2**(N-1) に修正\n",
    "for bit in range(2 ** (N - 1)):\n",
    "    s = S[0]\n",
    "    total = 0\n",
    "    print(f\"bit: {bin(bit)[2:].zfill(N-1)}\", end=\" => \")\n",
    "    \n",
    "    # 0 から N-2 までを処理 (S[N-1] はループ外で処理する)\n",
    "    for i in range(N - 1):\n",
    "        # 現在のビットが 1 ならば、現在の数値を合計に加える\n",
    "        #1 << i 00001をi左シフトにずらす\n",
    "        #例:1 << 2 =>100(2進数)\n",
    "        if bit & (1 << i):\n",
    "            total += int(s)\n",
    "            print(f\"{s} + \", end=\"\")\n",
    "            s = \"\"\n",
    "        # 次の文字を追加する\n",
    "        s += S[i + 1]\n",
    "    \n",
    "    # 最後の数値を合計に加える\n",
    "    total += int(s)\n",
    "    print(f\"{s} = {total}\")\n",
    "    \n",
    "    # 合計を更新\n",
    "    ans += total\n",
    "\n",
    "print(f\"\\n最終合計: {ans}\")"
   ]
  },
  {
   "cell_type": "markdown",
   "metadata": {},
   "source": [
    "## リスト操作"
   ]
  },
  {
   "cell_type": "markdown",
   "metadata": {},
   "source": [
    "### リストに要素追加(末尾),スライス"
   ]
  },
  {
   "cell_type": "code",
   "execution_count": null,
   "metadata": {},
   "outputs": [],
   "source": [
    "my_list = [10, 20, 30, 40, 50]\n",
    "\n",
    "#リストに追加\n",
    "my_list.append(60)\n",
    "\n",
    "#リストの一部を取り出す\n",
    "print(\"最初の3要素:\", my_list[:3])  # [10, 20, 30]"
   ]
  },
  {
   "cell_type": "markdown",
   "metadata": {},
   "source": [
    "### リストのK番目にXを挿入,指定した要素を削除"
   ]
  },
  {
   "cell_type": "code",
   "execution_count": null,
   "metadata": {},
   "outputs": [],
   "source": [
    "X = 2\n",
    "K = 25\n",
    "\n",
    "#インデックス2に25を追加\n",
    "my_list.insert(X,K)\n",
    "\n",
    "#25を削除\n",
    "my_list.remove(K)"
   ]
  },
  {
   "cell_type": "markdown",
   "metadata": {},
   "source": [
    "### リストの反転、ソート"
   ]
  },
  {
   "cell_type": "code",
   "execution_count": null,
   "metadata": {},
   "outputs": [],
   "source": [
    "# リストの反転\n",
    "# .reverse()でリストの要素を反転させます\n",
    "my_list.reverse()\n",
    "\n",
    "# リストのソート\n",
    "# .sort()でリストを昇順に並べ替えます\n",
    "my_list.sort()\n",
    "#降順\n",
    "my_list.sort(reverse=True)\n"
   ]
  },
  {
   "cell_type": "markdown",
   "metadata": {},
   "source": [
    "### 重複要素の削除"
   ]
  },
  {
   "cell_type": "code",
   "execution_count": null,
   "metadata": {},
   "outputs": [],
   "source": [
    "# リストの重複要素を削除する\n",
    "unique_list = list(set(my_list))\n",
    "print(\"重複要素の削除:\", unique_list)"
   ]
  },
  {
   "cell_type": "markdown",
   "metadata": {},
   "source": [
    "## 集合(set)"
   ]
  },
  {
   "cell_type": "markdown",
   "metadata": {},
   "source": [
    "### セットの作成,追加,削除"
   ]
  },
  {
   "cell_type": "code",
   "execution_count": null,
   "metadata": {},
   "outputs": [],
   "source": [
    "# 空のセットを作成\n",
    "my_set = set()\n",
    "\n",
    "# 初期値を持つセット\n",
    "my_set = {1, 2, 3, 4, 5}\n",
    "\n",
    "# 要素の追加\n",
    "my_set.add(6)\n",
    "print(my_set)  # {1, 2, 3, 4, 5, 6}\n",
    "\n",
    "# 要素の削除\n",
    "my_set.remove(3)\n",
    "print(my_set)  # {1, 2, 4, 5, 6}\n"
   ]
  },
  {
   "cell_type": "markdown",
   "metadata": {},
   "source": [
    "##　重複の削除"
   ]
  },
  {
   "cell_type": "code",
   "execution_count": null,
   "metadata": {},
   "outputs": [],
   "source": [
    "# リストからセットに変換することで重複を自動的に排除\n",
    "my_list = [1, 1, 2, 3, 3, 4]\n",
    "my_set = set(my_list)\n",
    "print(my_set)  # {1, 2, 3, 4}"
   ]
  },
  {
   "cell_type": "markdown",
   "metadata": {},
   "source": [
    "### 集合演算"
   ]
  },
  {
   "cell_type": "code",
   "execution_count": null,
   "metadata": {},
   "outputs": [],
   "source": [
    "# 2つのセットを作成\n",
    "set1 = {1, 2, 3, 4}\n",
    "set2 = {3, 4, 5, 6}\n",
    "\n",
    "# 和集合（union）\n",
    "print(set1 | set2)  # {1, 2, 3, 4, 5, 6}\n",
    "\n",
    "# 積集合（intersection）\n",
    "print(set1 & set2)  # {3, 4}\n",
    "\n",
    "# 差集合（difference）\n",
    "print(set1 - set2)  # {1, 2}\n",
    "\n",
    "# 対称差集合（symmetric_difference）\n",
    "print(set1 ^ set2)  # {1, 2, 5, 6}"
   ]
  },
  {
   "cell_type": "markdown",
   "metadata": {},
   "source": [
    "### 集合内に要素が存在するかの判定"
   ]
  },
  {
   "cell_type": "code",
   "execution_count": null,
   "metadata": {},
   "outputs": [],
   "source": [
    "# 要素が存在するかの確認\n",
    "print(2 in my_set)  # True\n",
    "print(7 in my_set)  # False\n",
    "\n",
    "# 長さの取得\n",
    "print(len(my_set))  # 5"
   ]
  },
  {
   "cell_type": "markdown",
   "metadata": {},
   "source": [
    "## 辞書(dict)"
   ]
  },
  {
   "cell_type": "code",
   "execution_count": null,
   "metadata": {},
   "outputs": [],
   "source": [
    "# 空の辞書\n",
    "d = {}\n",
    "\n",
    "# 値を持つ辞書\n",
    "d = {'apple': 1, 'banana': 2, 'orange': 3}\n",
    "\n",
    "print(d)  # {'apple': 1, 'banana': 2, 'orange': 3}\n",
    "\n",
    "# タプルのリストを渡す\n",
    "d = dict([('apple', 1), ('banana', 2), ('orange', 3)])\n",
    "\n",
    "print(d)  # {'apple': 1, 'banana': 2, 'orange': 3}\n",
    "\n",
    "d = dict(apple=1, banana=2, orange=3)\n",
    "\n",
    "print(d)  # {'apple': 1, 'banana': 2, 'orange': 3}\n",
    "\n",
    "# 全てのキーに同じ値を持たせる\n",
    "keys = ['apple', 'banana', 'orange']\n",
    "d = dict.fromkeys(keys, 0)\n",
    "\n",
    "print(d)  # {'apple': 0, 'banana': 0, 'orange': 0}\n",
    "\n",
    "d = {'apple': 1, 'banana': 2, 'orange': 3}\n",
    "print(d['apple'])  # 1\n",
    "\n",
    "#辞書に要素の追加、更新\n",
    "\n",
    "d = {'apple': 1, 'banana': 2}\n",
    "\n",
    "# 新しいキーと値を追加\n",
    "d['orange'] = 3\n",
    "print(d)  # {'apple': 1, 'banana': 2, 'orange': 3}\n",
    "\n",
    "# 既存のキーの値を更新\n",
    "d['banana'] = 5\n",
    "print(d)  # {'apple': 1, 'banana': 5, 'orange': 3}\n",
    "\n",
    "d = {'apple': 1, 'banana': 2, 'orange': 3}\n",
    "\n",
    "# 特定のキーを削除\n",
    "del d['banana']\n",
    "print(d)  # {'apple': 1, 'orange': 3}\n",
    "\n",
    "# pop() メソッドで値を削除し、その値を取得する\n",
    "value = d.pop('orange')\n",
    "print(value)  # 3\n",
    "print(d)  # {'apple': 1}"
   ]
  }
 ],
 "metadata": {
  "kernelspec": {
   "display_name": "Python 3",
   "language": "python",
   "name": "python3"
  },
  "language_info": {
   "codemirror_mode": {
    "name": "ipython",
    "version": 3
   },
   "file_extension": ".py",
   "mimetype": "text/x-python",
   "name": "python",
   "nbconvert_exporter": "python",
   "pygments_lexer": "ipython3",
   "version": "3.12.4"
  }
 },
 "nbformat": 4,
 "nbformat_minor": 2
}
